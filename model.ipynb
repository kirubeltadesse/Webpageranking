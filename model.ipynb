{
 "cells": [
  {
   "cell_type": "code",
   "execution_count": 56,
   "metadata": {},
   "outputs": [],
   "source": [
    "import pandas as pd\n",
    "import numpy as np"
   ]
  },
  {
   "cell_type": "code",
   "execution_count": 57,
   "metadata": {},
   "outputs": [],
   "source": [
    "import re, collections"
   ]
  },
  {
   "cell_type": "code",
   "execution_count": 58,
   "metadata": {},
   "outputs": [],
   "source": [
    "from os.path import dirname, join"
   ]
  },
  {
   "cell_type": "code",
   "execution_count": 59,
   "metadata": {},
   "outputs": [],
   "source": [
    "def clean_up (file_name):\n",
    "    with open(file_name) as infile:\n",
    "        contents = infile.read()\n",
    "        # replacements\n",
    "        rep = {'%20': ' ','%2F%2F':'://', '%2F':'/',';':'\\n','.png':'.png \\n','%3A':''}\n",
    "        for i, j in rep.iteritems():\n",
    "            contents = contents.replace(i, j)\n",
    "    return contents\n",
    "        "
   ]
  },
  {
   "cell_type": "code",
   "execution_count": 60,
   "metadata": {},
   "outputs": [],
   "source": [
    "data = clean_up('./Test_results/alexa200_data.txt')"
   ]
  },
  {
   "cell_type": "code",
   "execution_count": 61,
   "metadata": {},
   "outputs": [],
   "source": [
    "def prepare(file_name, from_file=False):\n",
    "    collection = []\n",
    "    data = collections.defaultdict(dict)\n",
    "    count_num_data = 0\n",
    "    \n",
    "    # checking for expernal or internal file source\n",
    "    if from_file:\n",
    "        with open(file_name, 'r') as l_file:\n",
    "            content = l_file.read()\n",
    "    else:\n",
    "        content = file_name\n",
    "    \n",
    "    # separate each param and add to list\n",
    "    line = content.split('\\n')\n",
    "    \n",
    "    for each in line:\n",
    "        \n",
    "        values = each.split(':')\n",
    "        \n",
    "        # forming params and value pairs\n",
    "        if len(values) == 2:\n",
    "            key, value = values\n",
    "        elif len(values) == 3:\n",
    "            key, value_1, value_2 = values\n",
    "            value = value_1+\":\"+value_2\n",
    "            if key == 'web address':\n",
    "                catagory = value\n",
    "        else:\n",
    "            pass\n",
    "        \n",
    "        # put the value for each param of single website together\n",
    "        data[catagory].setdefault(key,[]).append(value)\n",
    "        #if key not in ['web address', 'Waterfall view']:\n",
    "           # print data[catagory].setdefault(key)\n",
    "      \n",
    "        cleaned_dict = dict(data)\n",
    "      \n",
    "\n",
    "    for web in cleaned_dict.keys():\n",
    "        count_num_data = count_num_data + 1\n",
    "        #print count_num_data\n",
    "        #print web\n",
    "        del cleaned_dict[web]['Waterfall view']\n",
    "        del cleaned_dict[web]['web address']\n",
    "\n",
    "        for x in cleaned_dict[web].keys():\n",
    "            if '' in cleaned_dict[web][x]:\n",
    "                for y in cleaned_dict[web][x]:\n",
    "                    cleaned_dict[web][x] = np.nan\n",
    "        if cleaned_dict[web].has_key(''):\n",
    "             del cleaned_dict[web]['']\n",
    "\n",
    "        else:\n",
    "            pass\n",
    "    #print \"The number of data collected is: \", count_nam_data\n",
    "\n",
    "    return cleaned_dict"
   ]
  },
  {
   "cell_type": "code",
   "execution_count": 62,
   "metadata": {},
   "outputs": [],
   "source": [
    "data=prepare(data)"
   ]
  },
  {
   "cell_type": "code",
   "execution_count": 63,
   "metadata": {},
   "outputs": [],
   "source": [
    "def select(dataframe, param):\n",
    "    dfT = dataframe.transpose()\n",
    "    \n",
    "    # covert back to frame\n",
    "    df = pd.DataFrame(data=dfT[param]).dropna()\n",
    "    \n",
    "    # this link can be changed to .mean() for avarge\n",
    "    # .min() for the minmun value\n",
    "    # .max() for the max value\n",
    "    s = df.apply(lambda x: pd.Series(x[param]), axis = 1).transpose().max()\n",
    "    s.name = param\n",
    "    \n",
    "    # conver serias to DataFrame\n",
    "    df_return = df.drop(param, axis=1).join(s)\n",
    "    \n",
    "    return df_return\n",
    "    "
   ]
  },
  {
   "cell_type": "code",
   "execution_count": 64,
   "metadata": {},
   "outputs": [],
   "source": [
    "df = pd.DataFrame(data=data)"
   ]
  },
  {
   "cell_type": "code",
   "execution_count": null,
   "metadata": {},
   "outputs": [],
   "source": []
  },
  {
   "cell_type": "code",
   "execution_count": 65,
   "metadata": {},
   "outputs": [],
   "source": [
    "\n",
    "def table(df):\n",
    "    params = ['(Doc complete) Byets in', '(Doc complete) Requests','(Fully loaded) Bytes in','(Fully loaded) Requests',\n",
    "          '(Fully loaded) Time','DOM elements','First byte','Load time','Speed Index','Start render',]\n",
    " \n",
    "    df_list = [select(df, param) for param in params]\n",
    "    \n",
    "    for indx, i in enumerate(df_list):\n",
    "        \n",
    "        # first time run\n",
    "        if indx == 0:\n",
    "            joined = i\n",
    "        \n",
    "        if indx < len(df_list) -1:\n",
    "        \n",
    "            joined = joined.join(df_list[indx+1])\n",
    "            \n",
    "    \n",
    "       \n",
    "    joined.index.names = ['Site name']\n",
    "\n",
    "    return joined\n",
    "#     df1 = pd.DataFrame(data=df_list[:1])\n",
    "#     print df1\n",
    "#     df2 = pd.DataFrame(data=df_list[1:2])\n",
    "    #return pd.merge(*df_list, how='outer')\n",
    "    \n",
    "\n",
    "   "
   ]
  },
  {
   "cell_type": "code",
   "execution_count": 66,
   "metadata": {},
   "outputs": [],
   "source": [
    "dfnew = table(df)\n",
    "#dfnew"
   ]
  },
  {
   "cell_type": "code",
   "execution_count": 67,
   "metadata": {},
   "outputs": [],
   "source": [
    "# dfnew.to_csv('./bokeh_app/data/formatetop200.csv')"
   ]
  },
  {
   "cell_type": "markdown",
   "metadata": {},
   "source": [
    "## we can start making the model now"
   ]
  },
  {
   "cell_type": "markdown",
   "metadata": {},
   "source": [
    "## Algorithm:"
   ]
  },
  {
   "cell_type": "markdown",
   "metadata": {},
   "source": [
    "### Step1: Find min and max of each of the 7 parameters."
   ]
  },
  {
   "cell_type": "code",
   "execution_count": 68,
   "metadata": {},
   "outputs": [],
   "source": [
    "df_set = pd.read_csv('./bokeh_app/data/formatetop100.csv')\n",
    "\n",
    "params = ['(Doc complete) Byets in', '(Doc complete) Requests','(Fully loaded) Bytes in','(Fully loaded) Requests',\n",
    "          '(Fully loaded) Time','DOM elements','First byte','Load time','Speed Index','Start render',]\n",
    "# list \n",
    "param_values = {}\n",
    "for param in params:\n",
    "    param_values.update({\n",
    "    param:[df_set[param].min(), df_set[param].mean(), df_set[param].max()],})\n",
    "\n",
    "\n",
    "# for key in param_values:\n",
    "#     print param_values[key]\n",
    "\n",
    "df_param = pd.DataFrame.from_dict(param_values, orient='index')\n",
    "df_param.columns=['Min','Average','Max']\n",
    "#df_param\n",
    "#df_param = pd.DataFrame(list(param_values.items()),columns=['Min','Average','Max'])\n"
   ]
  },
  {
   "cell_type": "code",
   "execution_count": 69,
   "metadata": {},
   "outputs": [
    {
     "data": {
      "text/html": [
       "<div>\n",
       "<table border=\"1\" class=\"dataframe\">\n",
       "  <thead>\n",
       "    <tr style=\"text-align: right;\">\n",
       "      <th></th>\n",
       "      <th>count</th>\n",
       "      <th>mean</th>\n",
       "      <th>std</th>\n",
       "      <th>min</th>\n",
       "      <th>25%</th>\n",
       "      <th>50%</th>\n",
       "      <th>75%</th>\n",
       "      <th>max</th>\n",
       "    </tr>\n",
       "  </thead>\n",
       "  <tbody>\n",
       "    <tr>\n",
       "      <th>(Doc complete) Byets in</th>\n",
       "      <td>49</td>\n",
       "      <td>2283267.530612</td>\n",
       "      <td>2988632.278208</td>\n",
       "      <td>2999</td>\n",
       "      <td>527020</td>\n",
       "      <td>1159728</td>\n",
       "      <td>2853885</td>\n",
       "      <td>13786583</td>\n",
       "    </tr>\n",
       "    <tr>\n",
       "      <th>(Doc complete) Requests</th>\n",
       "      <td>49</td>\n",
       "      <td>79.020408</td>\n",
       "      <td>73.258529</td>\n",
       "      <td>5</td>\n",
       "      <td>24</td>\n",
       "      <td>61</td>\n",
       "      <td>85</td>\n",
       "      <td>369</td>\n",
       "    </tr>\n",
       "    <tr>\n",
       "      <th>(Fully loaded) Bytes in</th>\n",
       "      <td>49</td>\n",
       "      <td>2725607.244898</td>\n",
       "      <td>3601853.629268</td>\n",
       "      <td>3776</td>\n",
       "      <td>609950</td>\n",
       "      <td>1389638</td>\n",
       "      <td>3228037</td>\n",
       "      <td>17350231</td>\n",
       "    </tr>\n",
       "    <tr>\n",
       "      <th>(Fully loaded) Requests</th>\n",
       "      <td>49</td>\n",
       "      <td>109.795918</td>\n",
       "      <td>101.120180</td>\n",
       "      <td>6</td>\n",
       "      <td>39</td>\n",
       "      <td>71</td>\n",
       "      <td>130</td>\n",
       "      <td>408</td>\n",
       "    </tr>\n",
       "    <tr>\n",
       "      <th>(Fully loaded) Time</th>\n",
       "      <td>49</td>\n",
       "      <td>9204.122449</td>\n",
       "      <td>9720.931734</td>\n",
       "      <td>724</td>\n",
       "      <td>3191</td>\n",
       "      <td>4692</td>\n",
       "      <td>11162</td>\n",
       "      <td>43134</td>\n",
       "    </tr>\n",
       "    <tr>\n",
       "      <th>DOM elements</th>\n",
       "      <td>49</td>\n",
       "      <td>1123.020408</td>\n",
       "      <td>1113.947532</td>\n",
       "      <td>25</td>\n",
       "      <td>399</td>\n",
       "      <td>677</td>\n",
       "      <td>1421</td>\n",
       "      <td>6261</td>\n",
       "    </tr>\n",
       "    <tr>\n",
       "      <th>First byte</th>\n",
       "      <td>49</td>\n",
       "      <td>586.163265</td>\n",
       "      <td>277.521647</td>\n",
       "      <td>237</td>\n",
       "      <td>407</td>\n",
       "      <td>472</td>\n",
       "      <td>672</td>\n",
       "      <td>1359</td>\n",
       "    </tr>\n",
       "    <tr>\n",
       "      <th>Load time</th>\n",
       "      <td>49</td>\n",
       "      <td>6708.040816</td>\n",
       "      <td>7900.560014</td>\n",
       "      <td>577</td>\n",
       "      <td>2543</td>\n",
       "      <td>3759</td>\n",
       "      <td>7234</td>\n",
       "      <td>43065</td>\n",
       "    </tr>\n",
       "    <tr>\n",
       "      <th>Speed Index</th>\n",
       "      <td>49</td>\n",
       "      <td>3429.714286</td>\n",
       "      <td>2550.866487</td>\n",
       "      <td>600</td>\n",
       "      <td>1525</td>\n",
       "      <td>2675</td>\n",
       "      <td>4773</td>\n",
       "      <td>10769</td>\n",
       "    </tr>\n",
       "    <tr>\n",
       "      <th>Start render</th>\n",
       "      <td>49</td>\n",
       "      <td>1918.367347</td>\n",
       "      <td>1577.666192</td>\n",
       "      <td>600</td>\n",
       "      <td>1100</td>\n",
       "      <td>1500</td>\n",
       "      <td>2100</td>\n",
       "      <td>10700</td>\n",
       "    </tr>\n",
       "  </tbody>\n",
       "</table>\n",
       "</div>"
      ],
      "text/plain": [
       "                         count            mean             std   min     25%  \\\n",
       "(Doc complete) Byets in     49  2283267.530612  2988632.278208  2999  527020   \n",
       "(Doc complete) Requests     49       79.020408       73.258529     5      24   \n",
       "(Fully loaded) Bytes in     49  2725607.244898  3601853.629268  3776  609950   \n",
       "(Fully loaded) Requests     49      109.795918      101.120180     6      39   \n",
       "(Fully loaded) Time         49     9204.122449     9720.931734   724    3191   \n",
       "DOM elements                49     1123.020408     1113.947532    25     399   \n",
       "First byte                  49      586.163265      277.521647   237     407   \n",
       "Load time                   49     6708.040816     7900.560014   577    2543   \n",
       "Speed Index                 49     3429.714286     2550.866487   600    1525   \n",
       "Start render                49     1918.367347     1577.666192   600    1100   \n",
       "\n",
       "                             50%      75%       max  \n",
       "(Doc complete) Byets in  1159728  2853885  13786583  \n",
       "(Doc complete) Requests       61       85       369  \n",
       "(Fully loaded) Bytes in  1389638  3228037  17350231  \n",
       "(Fully loaded) Requests       71      130       408  \n",
       "(Fully loaded) Time         4692    11162     43134  \n",
       "DOM elements                 677     1421      6261  \n",
       "First byte                   472      672      1359  \n",
       "Load time                   3759     7234     43065  \n",
       "Speed Index                 2675     4773     10769  \n",
       "Start render                1500     2100     10700  "
      ]
     },
     "execution_count": 69,
     "metadata": {},
     "output_type": "execute_result"
    }
   ],
   "source": [
    "df_set.describe().transpose()"
   ]
  },
  {
   "cell_type": "markdown",
   "metadata": {},
   "source": [
    "### Step2: Normalize each parameter. After normalization, each parameter will have a value in between 0 and 1. "
   ]
  },
  {
   "cell_type": "markdown",
   "metadata": {},
   "source": [
    "If you want to normalize you data you can do as you suggest and simply calculate:\n",
    "                 $$ zi=xi−min(x)/max(x)−min(x) $$\n",
    "where x=(x1,...,xn) and zi is now your ith normalized data. As a proof of concept (although you did not ask for it) here is some R code and accompanying graph to illustrate this point:"
   ]
  },
  {
   "cell_type": "code",
   "execution_count": 70,
   "metadata": {},
   "outputs": [],
   "source": [
    "def normalize(x, param, df_param):\n",
    "    min_val = df_param.loc[param][0]\n",
    "    max_val = df_param.loc[param][2]\n",
    "    \n",
    "    return (x - min_val)/(max_val - min_val)\n",
    "    "
   ]
  },
  {
   "cell_type": "code",
   "execution_count": 71,
   "metadata": {},
   "outputs": [
    {
     "data": {
      "text/plain": [
       "0.0098338086340839809"
      ]
     },
     "execution_count": 71,
     "metadata": {},
     "output_type": "execute_result"
    }
   ],
   "source": [
    "normalize(700, 'Speed Index', df_param)"
   ]
  },
  {
   "cell_type": "markdown",
   "metadata": {},
   "source": [
    "######  Step 3: iterate through each parameter and assign it points (from 1 to 100) on the basis of its normalized scale. For example, after normalization speed index is 0.2 for one website. Thinking intuitively, speed value should be more for good ranking and good performance. Now, we design our scale from 0 to 1 in such a way that high speed = high points. Example 1: calculating speed index"
   ]
  },
  {
   "cell_type": "code",
   "execution_count": 76,
   "metadata": {},
   "outputs": [],
   "source": [
    "from sklearn import preprocessing\n",
    "\n",
    "x = df_set.drop(['Site name'], axis=1)\n",
    "min_max_scaler = preprocessing.MinMaxScaler()\n",
    "x_scaled = min_max_scaler.fit_transform(x)\n",
    "df = pd.DataFrame(x_scaled, columns= ['(Doc complete) Byets in', '(Doc complete) Requests','(Fully loaded) Bytes in','(Fully loaded) Requests',\n",
    "          '(Fully loaded) Time','DOM elements','First byte','Load time','Speed Index','Start render',])\n",
    "df=df.set_index(df_set['Site name'])\n",
    "df.to_csv('./bokeh_app/data/normized.csv')"
   ]
  },
  {
   "cell_type": "markdown",
   "metadata": {},
   "source": [
    "--------------------------------------------------------------------------------------------------------------------------------\n",
    "$$  If (speed > =0 and speed <= .1) {  $$  \n",
    "$$  //assign lowest points to the speed parameter variable. Eg = assign 10 points $$ \n",
    "$$  If(speed >= 0.2 and speed =< .3){ $$ \n",
    "$$  //Assign 20 points $$ \n",
    "$$  If(speed > = .3 and speed =<.4 $$ \n",
    "$$  //Assign 30 points $$ \n",
    "$$  And so on – for speed index - the points we assign increases as the value of the parameter lies in $$ \n",
    "$$  the range closer to 1. $$ "
   ]
  },
  {
   "cell_type": "markdown",
   "metadata": {},
   "source": [
    "Example 2: calculating load time\n",
    "If (load time > =0 and speed <= .1) {\n",
    "\n",
    "//assign highest points to the speed parameter variable. Eg = assign 90 points\n",
    "If(speed >= 0.1 and speed =< .2){\n",
    "// Assign 80 points\n",
    "If(speed > = .2 and speed =<.3)\n",
    "//Assign 70 points\n",
    "And so on .. for load time - the points decreases as the value of the parameter lying in the range\n",
    "is closer to 0.\n",
    "------------------------------------------------------------------------------------------------------------------------------------------\n",
    "\n",
    "Likewise, we do this step for each parameter for each website.\n",
    "At the end of this step, we get total optimal points for each website having: speed points + load\n",
    "time points + ...all other parameter points."
   ]
  },
  {
   "cell_type": "markdown",
   "metadata": {},
   "source": [
    "Step 4:\n",
    "Now, we have the total points depending on the scale of each of the 100 websites calculated."
   ]
  },
  {
   "cell_type": "markdown",
   "metadata": {},
   "source": [
    "Step 5:\n",
    "Compare the optimal points calculated now to get the ranking. As we have normalized the scale,\n",
    "and have the model having total optimal points for each website."
   ]
  },
  {
   "cell_type": "markdown",
   "metadata": {},
   "source": [
    "Step 6:\n",
    "Sort the total points of each website and get the ranking info depending on the sort. One with\n",
    "the maximum points calculated is the ranked first and so on.."
   ]
  },
  {
   "cell_type": "markdown",
   "metadata": {},
   "source": [
    "Step 7 : Once we have the ranking, if user wants to improve the ranking of a given website, so\n",
    "basically increase the points for that website."
   ]
  },
  {
   "cell_type": "markdown",
   "metadata": {},
   "source": [
    "//Calculate increase of points required to make a website No.1\n",
    "Points_rank1_website = p1;\n",
    "Current_ Points_of_website_user_wants_to_improve = p2;\n",
    "Points_needed = (points of rank 1 website – point of website user wants to improve to rank 1)\n",
    "//Then increase those many points\n",
    "\n",
    "Points_of_website_user_wants_to_improve = Points_of_website_user_wants_to_improve +\n",
    "points_needed;\n",
    "\n",
    "Step 7:\n",
    "Depending on the new points, again sort the list and display ranking. Now user has the provision\n",
    "to improve the ranking of any website and display it."
   ]
  },
  {
   "cell_type": "code",
   "execution_count": null,
   "metadata": {},
   "outputs": [],
   "source": []
  }
 ],
 "metadata": {
  "kernelspec": {
   "display_name": "Python 2",
   "language": "python",
   "name": "python2"
  },
  "language_info": {
   "codemirror_mode": {
    "name": "ipython",
    "version": 2
   },
   "file_extension": ".py",
   "mimetype": "text/x-python",
   "name": "python",
   "nbconvert_exporter": "python",
   "pygments_lexer": "ipython2",
   "version": "2.7.12"
  }
 },
 "nbformat": 4,
 "nbformat_minor": 2
}

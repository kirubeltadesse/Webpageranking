{
 "cells": [
  {
   "cell_type": "code",
   "execution_count": 51,
   "metadata": {},
   "outputs": [],
   "source": [
    "import pandas as pd\n",
    "import numpy as np\n",
    "# connecting with the JavaScript file\n",
    "from Naked.toolshed.shell import execute_js, muterun_js\n",
    "import sys"
   ]
  },
  {
   "cell_type": "code",
   "execution_count": 2,
   "metadata": {},
   "outputs": [],
   "source": [
    "import re, collections"
   ]
  },
  {
   "cell_type": "code",
   "execution_count": 3,
   "metadata": {},
   "outputs": [],
   "source": [
    "from os.path import dirname, join"
   ]
  },
  {
   "cell_type": "code",
   "execution_count": 4,
   "metadata": {},
   "outputs": [],
   "source": [
    "def clean_up (file_name ): #, from_file=False):\n",
    "    rep = {'%20': ' ','%2F%2F':'://', '%2F':'/',';':'\\n','.png':'.png \\n','%3A':''}\n",
    "    \n",
    "   # if from_file:\n",
    "#         contents = file_name\n",
    "#         for i, j in rep.items():\n",
    "#             contents = contents.replace(i, j)\n",
    "    #else:\n",
    "    with open(file_name) as infile:\n",
    "        contents = infile.read()\n",
    "        # replacements\n",
    "        for i, j in rep.items():\n",
    "            contents = contents.replace(i, j)\n",
    "                \n",
    "    return contents\n",
    "        "
   ]
  },
  {
   "cell_type": "code",
   "execution_count": 7,
   "metadata": {},
   "outputs": [],
   "source": [
    "data=clean_up(\"./bokeh_app/scripts/Test_results/alexa_test_result.txt\")"
   ]
  },
  {
   "cell_type": "code",
   "execution_count": 94,
   "metadata": {},
   "outputs": [
    {
     "data": {
      "text/plain": [
       "'C:\\\\Users\\\\ktadesse\\\\Desktop\\\\Project\\\\Webpageranking'"
      ]
     },
     "execution_count": 94,
     "metadata": {},
     "output_type": "execute_result"
    }
   ],
   "source": [
    "import os\n",
    "from os.path import dirname\n",
    "\n",
    "os.path.dirname(os.path.abspath('__filename__'))"
   ]
  },
  {
   "cell_type": "code",
   "execution_count": null,
   "metadata": {},
   "outputs": [],
   "source": []
  },
  {
   "cell_type": "code",
   "execution_count": null,
   "metadata": {},
   "outputs": [],
   "source": []
  },
  {
   "cell_type": "code",
   "execution_count": 95,
   "metadata": {},
   "outputs": [],
   "source": [
    "def prepare(file_name, from_file=False):\n",
    "    collection = []\n",
    "    data = collections.defaultdict(dict)\n",
    "    count_num_data = 0\n",
    "    \n",
    "    # checking for expernal or internal file source\n",
    "    if from_file:\n",
    "        with open(file_name, 'r') as l_file:\n",
    "            content = l_file.read()\n",
    "            print(type(content))\n",
    "    else:\n",
    "        content = file_name\n",
    "#     print(content)\n",
    "    \n",
    "#     separate each param and add to list\n",
    "    line = content.split('\\n')\n",
    "   \n",
    "    for each in line:\n",
    "        \n",
    "        values = each.split(':')\n",
    "        \n",
    "        # forming params and value pairs\n",
    "        if len(values) == 2:\n",
    "            key, value = values\n",
    "        elif len(values) == 3:\n",
    "            key, value_1, value_2 = values\n",
    "            value = value_1+\":\"+value_2\n",
    "            if key == 'web address':\n",
    "                catagory = value\n",
    "        else:\n",
    "            pass\n",
    "        \n",
    "        # put the value for each param of single website together\n",
    "        data[catagory].setdefault(key,[]).append(value)\n",
    "        #if key not in ['web address', 'Waterfall view']:\n",
    "           # print data[catagory].setdefault(key)\n",
    "      \n",
    "        cleaned_dict = dict(data)\n",
    "      \n",
    "\n",
    "    for web in cleaned_dict.keys():\n",
    "        count_num_data = count_num_data + 1\n",
    "        #print count_num_data\n",
    "        #print web\n",
    "        del cleaned_dict[web]['Waterfall view']\n",
    "        del cleaned_dict[web]['web address']\n",
    "\n",
    "        for x in cleaned_dict[web].keys():\n",
    "            if '' in cleaned_dict[web][x]:\n",
    "                for y in cleaned_dict[web][x]:\n",
    "                    cleaned_dict[web][x] = np.nan\n",
    "        if '' in cleaned_dict[web]:\n",
    "             del cleaned_dict[web]['']\n",
    "\n",
    "        else:\n",
    "            pass\n",
    "    #print \"The number of data collected is: \", count_nam_data\n",
    "\n",
    "    return cleaned_dict"
   ]
  },
  {
   "cell_type": "code",
   "execution_count": 96,
   "metadata": {},
   "outputs": [],
   "source": [
    "data =prepare(data)"
   ]
  },
  {
   "cell_type": "code",
   "execution_count": 97,
   "metadata": {},
   "outputs": [],
   "source": [
    "def select(dataframe, param):\n",
    "    dfT = dataframe.transpose()\n",
    "    \n",
    "    # covert back to frame\n",
    "    df = pd.DataFrame(data=dfT[param]).dropna()\n",
    "    \n",
    "    # this link can be changed to .mean() for avarge\n",
    "    # .min() for the minmun value\n",
    "    # .max() for the max value\n",
    "    s = df.apply(lambda x: pd.Series(x[param]), axis = 1).transpose().max()\n",
    "    s.name = param\n",
    "    \n",
    "    # conver serias to DataFrame\n",
    "    df_return = df.drop(param, axis=1).join(s)\n",
    "    \n",
    "    return df_return\n",
    "    "
   ]
  },
  {
   "cell_type": "code",
   "execution_count": 98,
   "metadata": {},
   "outputs": [],
   "source": [
    "df = pd.DataFrame(data)"
   ]
  },
  {
   "cell_type": "code",
   "execution_count": 99,
   "metadata": {},
   "outputs": [
    {
     "data": {
      "text/html": [
       "<div>\n",
       "<style scoped>\n",
       "    .dataframe tbody tr th:only-of-type {\n",
       "        vertical-align: middle;\n",
       "    }\n",
       "\n",
       "    .dataframe tbody tr th {\n",
       "        vertical-align: top;\n",
       "    }\n",
       "\n",
       "    .dataframe thead th {\n",
       "        text-align: right;\n",
       "    }\n",
       "</style>\n",
       "<table border=\"1\" class=\"dataframe\">\n",
       "  <thead>\n",
       "    <tr style=\"text-align: right;\">\n",
       "      <th></th>\n",
       "      <th>Load time</th>\n",
       "    </tr>\n",
       "  </thead>\n",
       "  <tbody>\n",
       "  </tbody>\n",
       "</table>\n",
       "</div>"
      ],
      "text/plain": [
       "Empty DataFrame\n",
       "Columns: [Load time]\n",
       "Index: []"
      ]
     },
     "execution_count": 99,
     "metadata": {},
     "output_type": "execute_result"
    }
   ],
   "source": [
    "select(df,'Load time')"
   ]
  },
  {
   "cell_type": "code",
   "execution_count": 100,
   "metadata": {},
   "outputs": [],
   "source": [
    "\n",
    "def table(df):\n",
    "    params = ['(Doc complete) Byets in', '(Doc complete) Requests','(Fully loaded) Bytes in','(Fully loaded) Requests',\n",
    "          '(Fully loaded) Time','DOM elements','First byte','Load time','Speed Index','Start render',]\n",
    " \n",
    "    df_list = [select(df, param) for param in params]\n",
    "    \n",
    "    for indx, i in enumerate(df_list):\n",
    "        \n",
    "        # first time run\n",
    "        if indx == 0:\n",
    "            joined = i\n",
    "        \n",
    "        if indx < len(df_list) -1:\n",
    "        \n",
    "            joined = joined.join(df_list[indx+1])\n",
    "            \n",
    "    \n",
    "       \n",
    "    joined.index.names = ['Site name']\n",
    "\n",
    "    return joined\n",
    "#     df1 = pd.DataFrame(data=df_list[:1])\n",
    "#     print df1\n",
    "#     df2 = pd.DataFrame(data=df_list[1:2])\n",
    "    #return pd.merge(*df_list, how='outer')\n",
    "    \n",
    "\n",
    "   "
   ]
  },
  {
   "cell_type": "code",
   "execution_count": 101,
   "metadata": {},
   "outputs": [],
   "source": [
    "dfnew = table(df)\n",
    "\n",
    "time = dfnew.drop(['(Doc complete) Byets in','(Fully loaded) Bytes in','(Fully loaded) Requests','(Doc complete) Requests'], axis = 1)\n",
    "request = dfnew[['(Fully loaded) Requests','(Doc complete) Requests']]\n",
    "byets = dfnew[['(Doc complete) Byets in','(Fully loaded) Bytes in']]\n",
    "#time"
   ]
  },
  {
   "cell_type": "code",
   "execution_count": 102,
   "metadata": {},
   "outputs": [
    {
     "data": {
      "text/html": [
       "<div>\n",
       "<style scoped>\n",
       "    .dataframe tbody tr th:only-of-type {\n",
       "        vertical-align: middle;\n",
       "    }\n",
       "\n",
       "    .dataframe tbody tr th {\n",
       "        vertical-align: top;\n",
       "    }\n",
       "\n",
       "    .dataframe thead th {\n",
       "        text-align: right;\n",
       "    }\n",
       "</style>\n",
       "<table border=\"1\" class=\"dataframe\">\n",
       "  <thead>\n",
       "    <tr style=\"text-align: right;\">\n",
       "      <th></th>\n",
       "      <th>(Doc complete) Byets in</th>\n",
       "      <th>(Doc complete) Requests</th>\n",
       "      <th>(Fully loaded) Bytes in</th>\n",
       "      <th>(Fully loaded) Requests</th>\n",
       "      <th>(Fully loaded) Time</th>\n",
       "      <th>DOM elements</th>\n",
       "      <th>First byte</th>\n",
       "      <th>Load time</th>\n",
       "      <th>Speed Index</th>\n",
       "      <th>Start render</th>\n",
       "    </tr>\n",
       "    <tr>\n",
       "      <th>Site name</th>\n",
       "      <th></th>\n",
       "      <th></th>\n",
       "      <th></th>\n",
       "      <th></th>\n",
       "      <th></th>\n",
       "      <th></th>\n",
       "      <th></th>\n",
       "      <th></th>\n",
       "      <th></th>\n",
       "      <th></th>\n",
       "    </tr>\n",
       "  </thead>\n",
       "  <tbody>\n",
       "  </tbody>\n",
       "</table>\n",
       "</div>"
      ],
      "text/plain": [
       "Empty DataFrame\n",
       "Columns: [(Doc complete) Byets in, (Doc complete) Requests, (Fully loaded) Bytes in, (Fully loaded) Requests, (Fully loaded) Time, DOM elements, First byte, Load time, Speed Index, Start render]\n",
       "Index: []"
      ]
     },
     "execution_count": 102,
     "metadata": {},
     "output_type": "execute_result"
    }
   ],
   "source": [
    "dfnew"
   ]
  },
  {
   "cell_type": "code",
   "execution_count": 52,
   "metadata": {},
   "outputs": [],
   "source": [
    "data = pd.read_csv(\"D://Project//Webpageranking/bokeh_app/data/alexasite.csv\")"
   ]
  },
  {
   "cell_type": "code",
   "execution_count": 54,
   "metadata": {},
   "outputs": [],
   "source": [
    "df =pd.DataFrame(data=data)"
   ]
  },
  {
   "cell_type": "code",
   "execution_count": 103,
   "metadata": {},
   "outputs": [],
   "source": [
    "# dfnew.to_csv('./bokeh_app/data/formatetop200.csv')"
   ]
  },
  {
   "cell_type": "markdown",
   "metadata": {},
   "source": [
    "## we can start making the model now"
   ]
  },
  {
   "cell_type": "markdown",
   "metadata": {},
   "source": [
    "## Algorithm:"
   ]
  },
  {
   "cell_type": "markdown",
   "metadata": {},
   "source": [
    "### Step1: Find min and max of each of the 7 parameters."
   ]
  },
  {
   "cell_type": "code",
   "execution_count": 87,
   "metadata": {},
   "outputs": [
    {
     "ename": "FileNotFoundError",
     "evalue": "File b'./bokeh_app/data/formatetop100.csv' does not exist",
     "output_type": "error",
     "traceback": [
      "\u001b[1;31m---------------------------------------------------------------------------\u001b[0m",
      "\u001b[1;31mFileNotFoundError\u001b[0m                         Traceback (most recent call last)",
      "\u001b[1;32m<ipython-input-87-556b1d8b7946>\u001b[0m in \u001b[0;36m<module>\u001b[1;34m\u001b[0m\n\u001b[1;32m----> 1\u001b[1;33m \u001b[0mdf_set\u001b[0m \u001b[1;33m=\u001b[0m \u001b[0mpd\u001b[0m\u001b[1;33m.\u001b[0m\u001b[0mread_csv\u001b[0m\u001b[1;33m(\u001b[0m\u001b[1;34m'./bokeh_app/data/formatetop100.csv'\u001b[0m\u001b[1;33m)\u001b[0m\u001b[1;33m\u001b[0m\u001b[1;33m\u001b[0m\u001b[0m\n\u001b[0m\u001b[0;32m      2\u001b[0m \u001b[1;33m\u001b[0m\u001b[0m\n\u001b[0;32m      3\u001b[0m params = ['(Doc complete) Byets in', '(Doc complete) Requests','(Fully loaded) Bytes in','(Fully loaded) Requests',\n\u001b[0;32m      4\u001b[0m           '(Fully loaded) Time','DOM elements','First byte','Load time','Speed Index','Start render',]\n\u001b[0;32m      5\u001b[0m \u001b[1;31m# list\u001b[0m\u001b[1;33m\u001b[0m\u001b[1;33m\u001b[0m\u001b[1;33m\u001b[0m\u001b[0m\n",
      "\u001b[1;32m~\\Miniconda3\\envs\\Webranking\\lib\\site-packages\\pandas\\io\\parsers.py\u001b[0m in \u001b[0;36mparser_f\u001b[1;34m(filepath_or_buffer, sep, delimiter, header, names, index_col, usecols, squeeze, prefix, mangle_dupe_cols, dtype, engine, converters, true_values, false_values, skipinitialspace, skiprows, nrows, na_values, keep_default_na, na_filter, verbose, skip_blank_lines, parse_dates, infer_datetime_format, keep_date_col, date_parser, dayfirst, iterator, chunksize, compression, thousands, decimal, lineterminator, quotechar, quoting, escapechar, comment, encoding, dialect, tupleize_cols, error_bad_lines, warn_bad_lines, skipfooter, doublequote, delim_whitespace, low_memory, memory_map, float_precision)\u001b[0m\n\u001b[0;32m    676\u001b[0m                     skip_blank_lines=skip_blank_lines)\n\u001b[0;32m    677\u001b[0m \u001b[1;33m\u001b[0m\u001b[0m\n\u001b[1;32m--> 678\u001b[1;33m         \u001b[1;32mreturn\u001b[0m \u001b[0m_read\u001b[0m\u001b[1;33m(\u001b[0m\u001b[0mfilepath_or_buffer\u001b[0m\u001b[1;33m,\u001b[0m \u001b[0mkwds\u001b[0m\u001b[1;33m)\u001b[0m\u001b[1;33m\u001b[0m\u001b[1;33m\u001b[0m\u001b[0m\n\u001b[0m\u001b[0;32m    679\u001b[0m \u001b[1;33m\u001b[0m\u001b[0m\n\u001b[0;32m    680\u001b[0m     \u001b[0mparser_f\u001b[0m\u001b[1;33m.\u001b[0m\u001b[0m__name__\u001b[0m \u001b[1;33m=\u001b[0m \u001b[0mname\u001b[0m\u001b[1;33m\u001b[0m\u001b[1;33m\u001b[0m\u001b[0m\n",
      "\u001b[1;32m~\\Miniconda3\\envs\\Webranking\\lib\\site-packages\\pandas\\io\\parsers.py\u001b[0m in \u001b[0;36m_read\u001b[1;34m(filepath_or_buffer, kwds)\u001b[0m\n\u001b[0;32m    438\u001b[0m \u001b[1;33m\u001b[0m\u001b[0m\n\u001b[0;32m    439\u001b[0m     \u001b[1;31m# Create the parser.\u001b[0m\u001b[1;33m\u001b[0m\u001b[1;33m\u001b[0m\u001b[1;33m\u001b[0m\u001b[0m\n\u001b[1;32m--> 440\u001b[1;33m     \u001b[0mparser\u001b[0m \u001b[1;33m=\u001b[0m \u001b[0mTextFileReader\u001b[0m\u001b[1;33m(\u001b[0m\u001b[0mfilepath_or_buffer\u001b[0m\u001b[1;33m,\u001b[0m \u001b[1;33m**\u001b[0m\u001b[0mkwds\u001b[0m\u001b[1;33m)\u001b[0m\u001b[1;33m\u001b[0m\u001b[1;33m\u001b[0m\u001b[0m\n\u001b[0m\u001b[0;32m    441\u001b[0m \u001b[1;33m\u001b[0m\u001b[0m\n\u001b[0;32m    442\u001b[0m     \u001b[1;32mif\u001b[0m \u001b[0mchunksize\u001b[0m \u001b[1;32mor\u001b[0m \u001b[0miterator\u001b[0m\u001b[1;33m:\u001b[0m\u001b[1;33m\u001b[0m\u001b[1;33m\u001b[0m\u001b[0m\n",
      "\u001b[1;32m~\\Miniconda3\\envs\\Webranking\\lib\\site-packages\\pandas\\io\\parsers.py\u001b[0m in \u001b[0;36m__init__\u001b[1;34m(self, f, engine, **kwds)\u001b[0m\n\u001b[0;32m    785\u001b[0m             \u001b[0mself\u001b[0m\u001b[1;33m.\u001b[0m\u001b[0moptions\u001b[0m\u001b[1;33m[\u001b[0m\u001b[1;34m'has_index_names'\u001b[0m\u001b[1;33m]\u001b[0m \u001b[1;33m=\u001b[0m \u001b[0mkwds\u001b[0m\u001b[1;33m[\u001b[0m\u001b[1;34m'has_index_names'\u001b[0m\u001b[1;33m]\u001b[0m\u001b[1;33m\u001b[0m\u001b[1;33m\u001b[0m\u001b[0m\n\u001b[0;32m    786\u001b[0m \u001b[1;33m\u001b[0m\u001b[0m\n\u001b[1;32m--> 787\u001b[1;33m         \u001b[0mself\u001b[0m\u001b[1;33m.\u001b[0m\u001b[0m_make_engine\u001b[0m\u001b[1;33m(\u001b[0m\u001b[0mself\u001b[0m\u001b[1;33m.\u001b[0m\u001b[0mengine\u001b[0m\u001b[1;33m)\u001b[0m\u001b[1;33m\u001b[0m\u001b[1;33m\u001b[0m\u001b[0m\n\u001b[0m\u001b[0;32m    788\u001b[0m \u001b[1;33m\u001b[0m\u001b[0m\n\u001b[0;32m    789\u001b[0m     \u001b[1;32mdef\u001b[0m \u001b[0mclose\u001b[0m\u001b[1;33m(\u001b[0m\u001b[0mself\u001b[0m\u001b[1;33m)\u001b[0m\u001b[1;33m:\u001b[0m\u001b[1;33m\u001b[0m\u001b[1;33m\u001b[0m\u001b[0m\n",
      "\u001b[1;32m~\\Miniconda3\\envs\\Webranking\\lib\\site-packages\\pandas\\io\\parsers.py\u001b[0m in \u001b[0;36m_make_engine\u001b[1;34m(self, engine)\u001b[0m\n\u001b[0;32m   1012\u001b[0m     \u001b[1;32mdef\u001b[0m \u001b[0m_make_engine\u001b[0m\u001b[1;33m(\u001b[0m\u001b[0mself\u001b[0m\u001b[1;33m,\u001b[0m \u001b[0mengine\u001b[0m\u001b[1;33m=\u001b[0m\u001b[1;34m'c'\u001b[0m\u001b[1;33m)\u001b[0m\u001b[1;33m:\u001b[0m\u001b[1;33m\u001b[0m\u001b[1;33m\u001b[0m\u001b[0m\n\u001b[0;32m   1013\u001b[0m         \u001b[1;32mif\u001b[0m \u001b[0mengine\u001b[0m \u001b[1;33m==\u001b[0m \u001b[1;34m'c'\u001b[0m\u001b[1;33m:\u001b[0m\u001b[1;33m\u001b[0m\u001b[1;33m\u001b[0m\u001b[0m\n\u001b[1;32m-> 1014\u001b[1;33m             \u001b[0mself\u001b[0m\u001b[1;33m.\u001b[0m\u001b[0m_engine\u001b[0m \u001b[1;33m=\u001b[0m \u001b[0mCParserWrapper\u001b[0m\u001b[1;33m(\u001b[0m\u001b[0mself\u001b[0m\u001b[1;33m.\u001b[0m\u001b[0mf\u001b[0m\u001b[1;33m,\u001b[0m \u001b[1;33m**\u001b[0m\u001b[0mself\u001b[0m\u001b[1;33m.\u001b[0m\u001b[0moptions\u001b[0m\u001b[1;33m)\u001b[0m\u001b[1;33m\u001b[0m\u001b[1;33m\u001b[0m\u001b[0m\n\u001b[0m\u001b[0;32m   1015\u001b[0m         \u001b[1;32melse\u001b[0m\u001b[1;33m:\u001b[0m\u001b[1;33m\u001b[0m\u001b[1;33m\u001b[0m\u001b[0m\n\u001b[0;32m   1016\u001b[0m             \u001b[1;32mif\u001b[0m \u001b[0mengine\u001b[0m \u001b[1;33m==\u001b[0m \u001b[1;34m'python'\u001b[0m\u001b[1;33m:\u001b[0m\u001b[1;33m\u001b[0m\u001b[1;33m\u001b[0m\u001b[0m\n",
      "\u001b[1;32m~\\Miniconda3\\envs\\Webranking\\lib\\site-packages\\pandas\\io\\parsers.py\u001b[0m in \u001b[0;36m__init__\u001b[1;34m(self, src, **kwds)\u001b[0m\n\u001b[0;32m   1706\u001b[0m         \u001b[0mkwds\u001b[0m\u001b[1;33m[\u001b[0m\u001b[1;34m'usecols'\u001b[0m\u001b[1;33m]\u001b[0m \u001b[1;33m=\u001b[0m \u001b[0mself\u001b[0m\u001b[1;33m.\u001b[0m\u001b[0musecols\u001b[0m\u001b[1;33m\u001b[0m\u001b[1;33m\u001b[0m\u001b[0m\n\u001b[0;32m   1707\u001b[0m \u001b[1;33m\u001b[0m\u001b[0m\n\u001b[1;32m-> 1708\u001b[1;33m         \u001b[0mself\u001b[0m\u001b[1;33m.\u001b[0m\u001b[0m_reader\u001b[0m \u001b[1;33m=\u001b[0m \u001b[0mparsers\u001b[0m\u001b[1;33m.\u001b[0m\u001b[0mTextReader\u001b[0m\u001b[1;33m(\u001b[0m\u001b[0msrc\u001b[0m\u001b[1;33m,\u001b[0m \u001b[1;33m**\u001b[0m\u001b[0mkwds\u001b[0m\u001b[1;33m)\u001b[0m\u001b[1;33m\u001b[0m\u001b[1;33m\u001b[0m\u001b[0m\n\u001b[0m\u001b[0;32m   1709\u001b[0m \u001b[1;33m\u001b[0m\u001b[0m\n\u001b[0;32m   1710\u001b[0m         \u001b[0mpassed_names\u001b[0m \u001b[1;33m=\u001b[0m \u001b[0mself\u001b[0m\u001b[1;33m.\u001b[0m\u001b[0mnames\u001b[0m \u001b[1;32mis\u001b[0m \u001b[1;32mNone\u001b[0m\u001b[1;33m\u001b[0m\u001b[1;33m\u001b[0m\u001b[0m\n",
      "\u001b[1;32mpandas\\_libs\\parsers.pyx\u001b[0m in \u001b[0;36mpandas._libs.parsers.TextReader.__cinit__\u001b[1;34m()\u001b[0m\n",
      "\u001b[1;32mpandas\\_libs\\parsers.pyx\u001b[0m in \u001b[0;36mpandas._libs.parsers.TextReader._setup_parser_source\u001b[1;34m()\u001b[0m\n",
      "\u001b[1;31mFileNotFoundError\u001b[0m: File b'./bokeh_app/data/formatetop100.csv' does not exist"
     ]
    }
   ],
   "source": [
    "df_set = pd.read_csv('./bokeh_app/data/formatetop100.csv')\n",
    "\n",
    "params = ['(Doc complete) Byets in', '(Doc complete) Requests','(Fully loaded) Bytes in','(Fully loaded) Requests',\n",
    "          '(Fully loaded) Time','DOM elements','First byte','Load time','Speed Index','Start render',]\n",
    "# list \n",
    "param_values = {}\n",
    "for param in params:\n",
    "    param_values.update({\n",
    "    param:[df_set[param].min(), df_set[param].mean(), df_set[param].max()],})\n",
    "\n",
    "\n",
    "# for key in param_values:\n",
    "#     print param_values[key]\n",
    "\n",
    "df_param = pd.DataFrame.from_dict(param_values, orient='index')\n",
    "df_param.columns=['Min','Average','Max']\n",
    "#df_param\n",
    "#df_param = pd.DataFrame(list(param_values.items()),columns=['Min','Average','Max'])\n"
   ]
  },
  {
   "cell_type": "code",
   "execution_count": 88,
   "metadata": {},
   "outputs": [
    {
     "ename": "NameError",
     "evalue": "name 'df_set' is not defined",
     "output_type": "error",
     "traceback": [
      "\u001b[1;31m---------------------------------------------------------------------------\u001b[0m",
      "\u001b[1;31mNameError\u001b[0m                                 Traceback (most recent call last)",
      "\u001b[1;32m<ipython-input-88-06f39b2a3e37>\u001b[0m in \u001b[0;36m<module>\u001b[1;34m\u001b[0m\n\u001b[1;32m----> 1\u001b[1;33m \u001b[0mdf_set\u001b[0m\u001b[1;33m.\u001b[0m\u001b[0mdescribe\u001b[0m\u001b[1;33m(\u001b[0m\u001b[1;33m)\u001b[0m\u001b[1;33m.\u001b[0m\u001b[0mtranspose\u001b[0m\u001b[1;33m(\u001b[0m\u001b[1;33m)\u001b[0m\u001b[1;33m\u001b[0m\u001b[1;33m\u001b[0m\u001b[0m\n\u001b[0m",
      "\u001b[1;31mNameError\u001b[0m: name 'df_set' is not defined"
     ]
    }
   ],
   "source": [
    "df_set.describe().transpose()"
   ]
  },
  {
   "cell_type": "markdown",
   "metadata": {},
   "source": [
    "### Step2: Normalize each parameter. After normalization, each parameter will have a value in between 0 and 1. "
   ]
  },
  {
   "cell_type": "markdown",
   "metadata": {},
   "source": [
    "If you want to normalize you data you can do as you suggest and simply calculate:\n",
    "                 $$ zi=xi−min(x)/max(x)−min(x) $$\n",
    "where x=(x1,...,xn) and zi is now your ith normalized data. As a proof of concept (although you did not ask for it) here is some R code and accompanying graph to illustrate this point:"
   ]
  },
  {
   "cell_type": "code",
   "execution_count": 89,
   "metadata": {},
   "outputs": [],
   "source": [
    "def normalize(x, param, df_param):\n",
    "    min_val = df_param.loc[param][0]\n",
    "    max_val = df_param.loc[param][2]\n",
    "    \n",
    "    return (x - min_val)/(max_val - min_val)\n",
    "    "
   ]
  },
  {
   "cell_type": "code",
   "execution_count": 90,
   "metadata": {},
   "outputs": [
    {
     "ename": "NameError",
     "evalue": "name 'df_param' is not defined",
     "output_type": "error",
     "traceback": [
      "\u001b[1;31m---------------------------------------------------------------------------\u001b[0m",
      "\u001b[1;31mNameError\u001b[0m                                 Traceback (most recent call last)",
      "\u001b[1;32m<ipython-input-90-da53b3b52167>\u001b[0m in \u001b[0;36m<module>\u001b[1;34m\u001b[0m\n\u001b[1;32m----> 1\u001b[1;33m \u001b[0mnormalize\u001b[0m\u001b[1;33m(\u001b[0m\u001b[1;36m700\u001b[0m\u001b[1;33m,\u001b[0m \u001b[1;34m'Speed Index'\u001b[0m\u001b[1;33m,\u001b[0m \u001b[0mdf_param\u001b[0m\u001b[1;33m)\u001b[0m\u001b[1;33m\u001b[0m\u001b[1;33m\u001b[0m\u001b[0m\n\u001b[0m",
      "\u001b[1;31mNameError\u001b[0m: name 'df_param' is not defined"
     ]
    }
   ],
   "source": [
    "normalize(700, 'Speed Index', df_param)"
   ]
  },
  {
   "cell_type": "markdown",
   "metadata": {},
   "source": [
    "######  Step 3: iterate through each parameter and assign it points (from 1 to 100) on the basis of its normalized scale. For example, after normalization speed index is 0.2 for one website. Thinking intuitively, speed value should be more for good ranking and good performance. Now, we design our scale from 0 to 1 in such a way that high speed = high points. Example 1: calculating speed index"
   ]
  },
  {
   "cell_type": "code",
   "execution_count": 91,
   "metadata": {},
   "outputs": [
    {
     "ename": "ModuleNotFoundError",
     "evalue": "No module named 'sklearn'",
     "output_type": "error",
     "traceback": [
      "\u001b[1;31m---------------------------------------------------------------------------\u001b[0m",
      "\u001b[1;31mModuleNotFoundError\u001b[0m                       Traceback (most recent call last)",
      "\u001b[1;32m<ipython-input-91-39afe7a6d046>\u001b[0m in \u001b[0;36m<module>\u001b[1;34m\u001b[0m\n\u001b[1;32m----> 1\u001b[1;33m \u001b[1;32mfrom\u001b[0m \u001b[0msklearn\u001b[0m \u001b[1;32mimport\u001b[0m \u001b[0mpreprocessing\u001b[0m\u001b[1;33m\u001b[0m\u001b[1;33m\u001b[0m\u001b[0m\n\u001b[0m\u001b[0;32m      2\u001b[0m \u001b[1;33m\u001b[0m\u001b[0m\n\u001b[0;32m      3\u001b[0m \u001b[1;32mdef\u001b[0m \u001b[0mnormal\u001b[0m\u001b[1;33m(\u001b[0m\u001b[0mdf_set\u001b[0m\u001b[1;33m,\u001b[0m \u001b[0mname\u001b[0m\u001b[1;33m)\u001b[0m\u001b[1;33m:\u001b[0m\u001b[1;33m\u001b[0m\u001b[1;33m\u001b[0m\u001b[0m\n\u001b[0;32m      4\u001b[0m \u001b[1;33m\u001b[0m\u001b[0m\n\u001b[0;32m      5\u001b[0m     \u001b[0mx\u001b[0m \u001b[1;33m=\u001b[0m \u001b[0mdf_set\u001b[0m\u001b[1;33m\u001b[0m\u001b[1;33m\u001b[0m\u001b[0m\n",
      "\u001b[1;31mModuleNotFoundError\u001b[0m: No module named 'sklearn'"
     ]
    }
   ],
   "source": [
    "from sklearn import preprocessing\n",
    "\n",
    "def normal(df_set, name):\n",
    "    \n",
    "    x = df_set\n",
    "\n",
    "    min_max_scaler = preprocessing.MinMaxScaler()\n",
    "    x_scaled = min_max_scaler.fit_transform(x)\n",
    "    #df = pd.DataFrame(x_scaled, columns= ['(Doc complete) Byets in', '(Doc complete) Requests','(Fully loaded) Bytes in','(Fully loaded) Requests',\n",
    "              #'(Fully loaded) Time','DOM elements',b'First byte','Load time','Speed Index','Start render',])\n",
    "    #df=df.set_index(df_set['Site name'])\n",
    "    df = pd.DataFrame(x_scaled, columns=[df_set.columns])\n",
    "   \n",
    "    df.to_csv('./bokeh_app/data/'+name+'.csv')\n",
    "    return df"
   ]
  },
  {
   "cell_type": "code",
   "execution_count": 56,
   "metadata": {},
   "outputs": [],
   "source": [
    "nor=normal(df,\"nor_time\")"
   ]
  },
  {
   "cell_type": "code",
   "execution_count": 59,
   "metadata": {},
   "outputs": [],
   "source": [
    "web =nor.reset_index()"
   ]
  },
  {
   "cell_type": "code",
   "execution_count": 124,
   "metadata": {},
   "outputs": [],
   "source": [
    "test = web['Speed Index'].drop(labels=[8]).transpose().iloc[0]"
   ]
  },
  {
   "cell_type": "code",
   "execution_count": 70,
   "metadata": {},
   "outputs": [
    {
     "name": "stderr",
     "output_type": "stream",
     "text": [
      "C:\\Users\\ktadesse\\Miniconda3\\envs\\Webranking\\lib\\site-packages\\ipykernel_launcher.py:1: FutureWarning: convert_objects is deprecated.  To re-infer data dtypes for object columns, use DataFrame.infer_objects()\n",
      "For all other conversions use the data-type specific converters pd.to_datetime, pd.to_timedelta and pd.to_numeric.\n",
      "  \"\"\"Entry point for launching an IPython kernel.\n"
     ]
    }
   ],
   "source": [
    "df1 = test.convert_objects(convert_numeric=True)"
   ]
  },
  {
   "cell_type": "code",
   "execution_count": 125,
   "metadata": {},
   "outputs": [
    {
     "data": {
      "text/plain": [
       "0     0.151825\n",
       "1     0.810258\n",
       "2     0.279421\n",
       "3     0.115560\n",
       "4     0.110289\n",
       "5     0.344006\n",
       "6     0.146948\n",
       "7     0.319226\n",
       "9     0.319226\n",
       "10    0.371067\n",
       "11    0.088499\n",
       "12    0.094635\n",
       "13    0.655129\n",
       "14    0.112177\n",
       "15    0.178965\n",
       "16    0.057347\n",
       "17    0.028084\n",
       "18    0.029185\n",
       "19    0.031702\n",
       "20    0.181246\n",
       "21    0.107458\n",
       "22    0.073474\n",
       "23    0.201542\n",
       "24    0.107064\n",
       "25    0.354783\n",
       "26    0.129405\n",
       "27    0.505664\n",
       "28    0.284928\n",
       "29    0.484031\n",
       "30    0.815686\n",
       "        ...   \n",
       "67    0.166142\n",
       "68    0.021712\n",
       "69    0.107930\n",
       "70    0.228839\n",
       "71    0.031466\n",
       "72    0.023678\n",
       "73    0.024072\n",
       "74    0.127596\n",
       "75    0.007867\n",
       "76    0.191551\n",
       "77    0.187146\n",
       "78    0.607300\n",
       "79    0.000000\n",
       "80    0.113436\n",
       "81    0.123112\n",
       "82    0.028713\n",
       "83    0.132159\n",
       "84    0.120673\n",
       "85    0.458858\n",
       "86    0.890733\n",
       "87    0.125865\n",
       "88    0.380979\n",
       "89    0.676998\n",
       "90    0.125000\n",
       "91    0.389711\n",
       "92    0.320957\n",
       "93    0.136957\n",
       "94    0.415120\n",
       "95    0.057898\n",
       "96    0.199025\n",
       "Name: (Speed Index,), Length: 96, dtype: float64"
      ]
     },
     "execution_count": 125,
     "metadata": {},
     "output_type": "execute_result"
    }
   ],
   "source": [
    "test"
   ]
  },
  {
   "cell_type": "code",
   "execution_count": 123,
   "metadata": {},
   "outputs": [],
   "source": [
    "# test.columns.droplevel(['Speed Index', 'Start render'])"
   ]
  },
  {
   "cell_type": "code",
   "execution_count": 122,
   "metadata": {},
   "outputs": [
    {
     "data": {
      "text/plain": [
       "0     0.151825\n",
       "1     0.810258\n",
       "2     0.279421\n",
       "3     0.115560\n",
       "4     0.110289\n",
       "5     0.344006\n",
       "6     0.146948\n",
       "7     0.319226\n",
       "9     0.319226\n",
       "10    0.371067\n",
       "11    0.088499\n",
       "12    0.094635\n",
       "13    0.655129\n",
       "14    0.112177\n",
       "15    0.178965\n",
       "16    0.057347\n",
       "17    0.028084\n",
       "18    0.029185\n",
       "19    0.031702\n",
       "20    0.181246\n",
       "21    0.107458\n",
       "22    0.073474\n",
       "23    0.201542\n",
       "24    0.107064\n",
       "25    0.354783\n",
       "26    0.129405\n",
       "27    0.505664\n",
       "28    0.284928\n",
       "29    0.484031\n",
       "30    0.815686\n",
       "        ...   \n",
       "67    0.166142\n",
       "68    0.021712\n",
       "69    0.107930\n",
       "70    0.228839\n",
       "71    0.031466\n",
       "72    0.023678\n",
       "73    0.024072\n",
       "74    0.127596\n",
       "75    0.007867\n",
       "76    0.191551\n",
       "77    0.187146\n",
       "78    0.607300\n",
       "79    0.000000\n",
       "80    0.113436\n",
       "81    0.123112\n",
       "82    0.028713\n",
       "83    0.132159\n",
       "84    0.120673\n",
       "85    0.458858\n",
       "86    0.890733\n",
       "87    0.125865\n",
       "88    0.380979\n",
       "89    0.676998\n",
       "90    0.125000\n",
       "91    0.389711\n",
       "92    0.320957\n",
       "93    0.136957\n",
       "94    0.415120\n",
       "95    0.057898\n",
       "96    0.199025\n",
       "Name: (Speed Index,), Length: 96, dtype: float64"
      ]
     },
     "execution_count": 122,
     "metadata": {},
     "output_type": "execute_result"
    }
   ],
   "source": [
    "test.drop(labels=[8]).transpose().iloc[0]"
   ]
  },
  {
   "cell_type": "markdown",
   "metadata": {},
   "source": [
    "--------------------------------------------------------------------------------------------------------------------------------\n",
    "$$  If (speed > =0 and speed <= .1) {  $$  \n",
    "$$  //assign lowest points to the speed parameter variable. Eg = assign 10 points $$ \n",
    "$$  If(speed >= 0.2 and speed =< .3){ $$ \n",
    "$$  //Assign 20 points $$ \n",
    "$$  If(speed > = .3 and speed =<.4 $$ \n",
    "$$  //Assign 30 points $$ \n",
    "$$  And so on – for speed index - the points we assign increases as the value of the parameter lies in $$ \n",
    "$$  the range closer to 1. $$ "
   ]
  },
  {
   "cell_type": "markdown",
   "metadata": {},
   "source": [
    "Example 2: calculating load time\n",
    "If (load time > =0 and speed <= .1) {\n",
    "\n",
    "//assign highest points to the speed parameter variable. Eg = assign 90 points\n",
    "If(speed >= 0.1 and speed =< .2){\n",
    "// Assign 80 points\n",
    "If(speed > = .2 and speed =<.3)\n",
    "//Assign 70 points\n",
    "And so on .. for load time - the points decreases as the value of the parameter lying in the range\n",
    "is closer to 0.\n",
    "------------------------------------------------------------------------------------------------------------------------------------------\n",
    "\n",
    "Likewise, we do this step for each parameter for each website.\n",
    "At the end of this step, we get total optimal points for each website having: speed points + load\n",
    "time points + ...all other parameter points."
   ]
  },
  {
   "cell_type": "markdown",
   "metadata": {},
   "source": [
    "Step 4:\n",
    "Now, we have the total points depending on the scale of each of the 100 websites calculated."
   ]
  },
  {
   "cell_type": "markdown",
   "metadata": {},
   "source": [
    "Step 5:\n",
    "Compare the optimal points calculated now to get the ranking. As we have normalized the scale,\n",
    "and have the model having total optimal points for each website."
   ]
  },
  {
   "cell_type": "markdown",
   "metadata": {},
   "source": [
    "Step 6:\n",
    "Sort the total points of each website and get the ranking info depending on the sort. One with\n",
    "the maximum points calculated is the ranked first and so on.."
   ]
  },
  {
   "cell_type": "markdown",
   "metadata": {},
   "source": [
    "Step 7 : Once we have the ranking, if user wants to improve the ranking of a given website, so\n",
    "basically increase the points for that website."
   ]
  },
  {
   "cell_type": "markdown",
   "metadata": {},
   "source": [
    "//Calculate increase of points required to make a website No.1\n",
    "Points_rank1_website = p1;\n",
    "Current_ Points_of_website_user_wants_to_improve = p2;\n",
    "Points_needed = (points of rank 1 website – point of website user wants to improve to rank 1)\n",
    "//Then increase those many points\n",
    "\n",
    "Points_of_website_user_wants_to_improve = Points_of_website_user_wants_to_improve +\n",
    "points_needed;\n",
    "\n",
    "Step 7:\n",
    "Depending on the new points, again sort the list and display ranking. Now user has the provision\n",
    "to improve the ranking of any website and display it."
   ]
  },
  {
   "cell_type": "code",
   "execution_count": null,
   "metadata": {},
   "outputs": [],
   "source": []
  }
 ],
 "metadata": {
  "kernelspec": {
   "display_name": "Python 3",
   "language": "python",
   "name": "python3"
  },
  "language_info": {
   "codemirror_mode": {
    "name": "ipython",
    "version": 3
   },
   "file_extension": ".py",
   "mimetype": "text/x-python",
   "name": "python",
   "nbconvert_exporter": "python",
   "pygments_lexer": "ipython3",
   "version": "3.6.7"
  }
 },
 "nbformat": 4,
 "nbformat_minor": 2
}

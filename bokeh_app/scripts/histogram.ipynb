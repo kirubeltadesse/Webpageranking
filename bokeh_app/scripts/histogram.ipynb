{
 "cells": [
  {
   "cell_type": "code",
   "execution_count": 46,
   "metadata": {},
   "outputs": [],
   "source": [
    "import pandas as pd\n",
    "import numpy as np"
   ]
  },
  {
   "cell_type": "code",
   "execution_count": 137,
   "metadata": {},
   "outputs": [
    {
     "data": {
      "text/html": [
       "\n",
       "    <div class=\"bk-root\">\n",
       "        <a href=\"https://bokeh.pydata.org\" target=\"_blank\" class=\"bk-logo bk-logo-small bk-logo-notebook\"></a>\n",
       "        <span id=\"90fa5a81-071b-43f2-997b-bfc19b0fe046\">Loading BokehJS ...</span>\n",
       "    </div>"
      ]
     },
     "metadata": {},
     "output_type": "display_data"
    },
    {
     "data": {
      "application/javascript": [
       "\n",
       "(function(root) {\n",
       "  function now() {\n",
       "    return new Date();\n",
       "  }\n",
       "\n",
       "  var force = true;\n",
       "\n",
       "  if (typeof (root._bokeh_onload_callbacks) === \"undefined\" || force === true) {\n",
       "    root._bokeh_onload_callbacks = [];\n",
       "    root._bokeh_is_loading = undefined;\n",
       "  }\n",
       "\n",
       "  var JS_MIME_TYPE = 'application/javascript';\n",
       "  var HTML_MIME_TYPE = 'text/html';\n",
       "  var EXEC_MIME_TYPE = 'application/vnd.bokehjs_exec.v0+json';\n",
       "  var CLASS_NAME = 'output_bokeh rendered_html';\n",
       "\n",
       "  /**\n",
       "   * Render data to the DOM node\n",
       "   */\n",
       "  function render(props, node) {\n",
       "    var script = document.createElement(\"script\");\n",
       "    node.appendChild(script);\n",
       "  }\n",
       "\n",
       "  /**\n",
       "   * Handle when an output is cleared or removed\n",
       "   */\n",
       "  function handleClearOutput(event, handle) {\n",
       "    var cell = handle.cell;\n",
       "\n",
       "    var id = cell.output_area._bokeh_element_id;\n",
       "    var server_id = cell.output_area._bokeh_server_id;\n",
       "    // Clean up Bokeh references\n",
       "    if (id != null && id in Bokeh.index) {\n",
       "      Bokeh.index[id].model.document.clear();\n",
       "      delete Bokeh.index[id];\n",
       "    }\n",
       "\n",
       "    if (server_id !== undefined) {\n",
       "      // Clean up Bokeh references\n",
       "      var cmd = \"from bokeh.io.state import curstate; print(curstate().uuid_to_server['\" + server_id + \"'].get_sessions()[0].document.roots[0]._id)\";\n",
       "      cell.notebook.kernel.execute(cmd, {\n",
       "        iopub: {\n",
       "          output: function(msg) {\n",
       "            var id = msg.content.text.trim();\n",
       "            if (id in Bokeh.index) {\n",
       "              Bokeh.index[id].model.document.clear();\n",
       "              delete Bokeh.index[id];\n",
       "            }\n",
       "          }\n",
       "        }\n",
       "      });\n",
       "      // Destroy server and session\n",
       "      var cmd = \"import bokeh.io.notebook as ion; ion.destroy_server('\" + server_id + \"')\";\n",
       "      cell.notebook.kernel.execute(cmd);\n",
       "    }\n",
       "  }\n",
       "\n",
       "  /**\n",
       "   * Handle when a new output is added\n",
       "   */\n",
       "  function handleAddOutput(event, handle) {\n",
       "    var output_area = handle.output_area;\n",
       "    var output = handle.output;\n",
       "\n",
       "    // limit handleAddOutput to display_data with EXEC_MIME_TYPE content only\n",
       "    if ((output.output_type != \"display_data\") || (!output.data.hasOwnProperty(EXEC_MIME_TYPE))) {\n",
       "      return\n",
       "    }\n",
       "\n",
       "    var toinsert = output_area.element.find(\".\" + CLASS_NAME.split(' ')[0]);\n",
       "\n",
       "    if (output.metadata[EXEC_MIME_TYPE][\"id\"] !== undefined) {\n",
       "      toinsert[toinsert.length - 1].firstChild.textContent = output.data[JS_MIME_TYPE];\n",
       "      // store reference to embed id on output_area\n",
       "      output_area._bokeh_element_id = output.metadata[EXEC_MIME_TYPE][\"id\"];\n",
       "    }\n",
       "    if (output.metadata[EXEC_MIME_TYPE][\"server_id\"] !== undefined) {\n",
       "      var bk_div = document.createElement(\"div\");\n",
       "      bk_div.innerHTML = output.data[HTML_MIME_TYPE];\n",
       "      var script_attrs = bk_div.children[0].attributes;\n",
       "      for (var i = 0; i < script_attrs.length; i++) {\n",
       "        toinsert[toinsert.length - 1].firstChild.setAttribute(script_attrs[i].name, script_attrs[i].value);\n",
       "      }\n",
       "      // store reference to server id on output_area\n",
       "      output_area._bokeh_server_id = output.metadata[EXEC_MIME_TYPE][\"server_id\"];\n",
       "    }\n",
       "  }\n",
       "\n",
       "  function register_renderer(events, OutputArea) {\n",
       "\n",
       "    function append_mime(data, metadata, element) {\n",
       "      // create a DOM node to render to\n",
       "      var toinsert = this.create_output_subarea(\n",
       "        metadata,\n",
       "        CLASS_NAME,\n",
       "        EXEC_MIME_TYPE\n",
       "      );\n",
       "      this.keyboard_manager.register_events(toinsert);\n",
       "      // Render to node\n",
       "      var props = {data: data, metadata: metadata[EXEC_MIME_TYPE]};\n",
       "      render(props, toinsert[toinsert.length - 1]);\n",
       "      element.append(toinsert);\n",
       "      return toinsert\n",
       "    }\n",
       "\n",
       "    /* Handle when an output is cleared or removed */\n",
       "    events.on('clear_output.CodeCell', handleClearOutput);\n",
       "    events.on('delete.Cell', handleClearOutput);\n",
       "\n",
       "    /* Handle when a new output is added */\n",
       "    events.on('output_added.OutputArea', handleAddOutput);\n",
       "\n",
       "    /**\n",
       "     * Register the mime type and append_mime function with output_area\n",
       "     */\n",
       "    OutputArea.prototype.register_mime_type(EXEC_MIME_TYPE, append_mime, {\n",
       "      /* Is output safe? */\n",
       "      safe: true,\n",
       "      /* Index of renderer in `output_area.display_order` */\n",
       "      index: 0\n",
       "    });\n",
       "  }\n",
       "\n",
       "  // register the mime type if in Jupyter Notebook environment and previously unregistered\n",
       "  if (root.Jupyter !== undefined) {\n",
       "    var events = require('base/js/events');\n",
       "    var OutputArea = require('notebook/js/outputarea').OutputArea;\n",
       "\n",
       "    if (OutputArea.prototype.mime_types().indexOf(EXEC_MIME_TYPE) == -1) {\n",
       "      register_renderer(events, OutputArea);\n",
       "    }\n",
       "  }\n",
       "\n",
       "  \n",
       "  if (typeof (root._bokeh_timeout) === \"undefined\" || force === true) {\n",
       "    root._bokeh_timeout = Date.now() + 5000;\n",
       "    root._bokeh_failed_load = false;\n",
       "  }\n",
       "\n",
       "  var NB_LOAD_WARNING = {'data': {'text/html':\n",
       "     \"<div style='background-color: #fdd'>\\n\"+\n",
       "     \"<p>\\n\"+\n",
       "     \"BokehJS does not appear to have successfully loaded. If loading BokehJS from CDN, this \\n\"+\n",
       "     \"may be due to a slow or bad network connection. Possible fixes:\\n\"+\n",
       "     \"</p>\\n\"+\n",
       "     \"<ul>\\n\"+\n",
       "     \"<li>re-rerun `output_notebook()` to attempt to load from CDN again, or</li>\\n\"+\n",
       "     \"<li>use INLINE resources instead, as so:</li>\\n\"+\n",
       "     \"</ul>\\n\"+\n",
       "     \"<code>\\n\"+\n",
       "     \"from bokeh.resources import INLINE\\n\"+\n",
       "     \"output_notebook(resources=INLINE)\\n\"+\n",
       "     \"</code>\\n\"+\n",
       "     \"</div>\"}};\n",
       "\n",
       "  function display_loaded() {\n",
       "    var el = document.getElementById(\"90fa5a81-071b-43f2-997b-bfc19b0fe046\");\n",
       "    if (el != null) {\n",
       "      el.textContent = \"BokehJS is loading...\";\n",
       "    }\n",
       "    if (root.Bokeh !== undefined) {\n",
       "      if (el != null) {\n",
       "        el.textContent = \"BokehJS \" + root.Bokeh.version + \" successfully loaded.\";\n",
       "      }\n",
       "    } else if (Date.now() < root._bokeh_timeout) {\n",
       "      setTimeout(display_loaded, 100)\n",
       "    }\n",
       "  }\n",
       "\n",
       "\n",
       "  function run_callbacks() {\n",
       "    try {\n",
       "      root._bokeh_onload_callbacks.forEach(function(callback) { callback() });\n",
       "    }\n",
       "    finally {\n",
       "      delete root._bokeh_onload_callbacks\n",
       "    }\n",
       "    console.info(\"Bokeh: all callbacks have finished\");\n",
       "  }\n",
       "\n",
       "  function load_libs(js_urls, callback) {\n",
       "    root._bokeh_onload_callbacks.push(callback);\n",
       "    if (root._bokeh_is_loading > 0) {\n",
       "      console.log(\"Bokeh: BokehJS is being loaded, scheduling callback at\", now());\n",
       "      return null;\n",
       "    }\n",
       "    if (js_urls == null || js_urls.length === 0) {\n",
       "      run_callbacks();\n",
       "      return null;\n",
       "    }\n",
       "    console.log(\"Bokeh: BokehJS not loaded, scheduling load and callback at\", now());\n",
       "    root._bokeh_is_loading = js_urls.length;\n",
       "    for (var i = 0; i < js_urls.length; i++) {\n",
       "      var url = js_urls[i];\n",
       "      var s = document.createElement('script');\n",
       "      s.src = url;\n",
       "      s.async = false;\n",
       "      s.onreadystatechange = s.onload = function() {\n",
       "        root._bokeh_is_loading--;\n",
       "        if (root._bokeh_is_loading === 0) {\n",
       "          console.log(\"Bokeh: all BokehJS libraries loaded\");\n",
       "          run_callbacks()\n",
       "        }\n",
       "      };\n",
       "      s.onerror = function() {\n",
       "        console.warn(\"failed to load library \" + url);\n",
       "      };\n",
       "      console.log(\"Bokeh: injecting script tag for BokehJS library: \", url);\n",
       "      document.getElementsByTagName(\"head\")[0].appendChild(s);\n",
       "    }\n",
       "  };var element = document.getElementById(\"90fa5a81-071b-43f2-997b-bfc19b0fe046\");\n",
       "  if (element == null) {\n",
       "    console.log(\"Bokeh: ERROR: autoload.js configured with elementid '90fa5a81-071b-43f2-997b-bfc19b0fe046' but no matching script tag was found. \")\n",
       "    return false;\n",
       "  }\n",
       "\n",
       "  var js_urls = [\"https://cdn.pydata.org/bokeh/release/bokeh-0.13.0.min.js\", \"https://cdn.pydata.org/bokeh/release/bokeh-widgets-0.13.0.min.js\", \"https://cdn.pydata.org/bokeh/release/bokeh-tables-0.13.0.min.js\", \"https://cdn.pydata.org/bokeh/release/bokeh-gl-0.13.0.min.js\"];\n",
       "\n",
       "  var inline_js = [\n",
       "    function(Bokeh) {\n",
       "      Bokeh.set_log_level(\"info\");\n",
       "    },\n",
       "    \n",
       "    function(Bokeh) {\n",
       "      \n",
       "    },\n",
       "    function(Bokeh) {\n",
       "      console.log(\"Bokeh: injecting CSS: https://cdn.pydata.org/bokeh/release/bokeh-0.13.0.min.css\");\n",
       "      Bokeh.embed.inject_css(\"https://cdn.pydata.org/bokeh/release/bokeh-0.13.0.min.css\");\n",
       "      console.log(\"Bokeh: injecting CSS: https://cdn.pydata.org/bokeh/release/bokeh-widgets-0.13.0.min.css\");\n",
       "      Bokeh.embed.inject_css(\"https://cdn.pydata.org/bokeh/release/bokeh-widgets-0.13.0.min.css\");\n",
       "      console.log(\"Bokeh: injecting CSS: https://cdn.pydata.org/bokeh/release/bokeh-tables-0.13.0.min.css\");\n",
       "      Bokeh.embed.inject_css(\"https://cdn.pydata.org/bokeh/release/bokeh-tables-0.13.0.min.css\");\n",
       "    }\n",
       "  ];\n",
       "\n",
       "  function run_inline_js() {\n",
       "    \n",
       "    if ((root.Bokeh !== undefined) || (force === true)) {\n",
       "      for (var i = 0; i < inline_js.length; i++) {\n",
       "        inline_js[i].call(root, root.Bokeh);\n",
       "      }if (force === true) {\n",
       "        display_loaded();\n",
       "      }} else if (Date.now() < root._bokeh_timeout) {\n",
       "      setTimeout(run_inline_js, 100);\n",
       "    } else if (!root._bokeh_failed_load) {\n",
       "      console.log(\"Bokeh: BokehJS failed to load within specified timeout.\");\n",
       "      root._bokeh_failed_load = true;\n",
       "    } else if (force !== true) {\n",
       "      var cell = $(document.getElementById(\"90fa5a81-071b-43f2-997b-bfc19b0fe046\")).parents('.cell').data().cell;\n",
       "      cell.output_area.append_execute_result(NB_LOAD_WARNING)\n",
       "    }\n",
       "\n",
       "  }\n",
       "\n",
       "  if (root._bokeh_is_loading === 0) {\n",
       "    console.log(\"Bokeh: BokehJS loaded, going straight to plotting\");\n",
       "    run_inline_js();\n",
       "  } else {\n",
       "    load_libs(js_urls, function() {\n",
       "      console.log(\"Bokeh: BokehJS plotting callback run at\", now());\n",
       "      run_inline_js();\n",
       "    });\n",
       "  }\n",
       "}(window));"
      ],
      "application/vnd.bokehjs_load.v0+json": "\n(function(root) {\n  function now() {\n    return new Date();\n  }\n\n  var force = true;\n\n  if (typeof (root._bokeh_onload_callbacks) === \"undefined\" || force === true) {\n    root._bokeh_onload_callbacks = [];\n    root._bokeh_is_loading = undefined;\n  }\n\n  \n\n  \n  if (typeof (root._bokeh_timeout) === \"undefined\" || force === true) {\n    root._bokeh_timeout = Date.now() + 5000;\n    root._bokeh_failed_load = false;\n  }\n\n  var NB_LOAD_WARNING = {'data': {'text/html':\n     \"<div style='background-color: #fdd'>\\n\"+\n     \"<p>\\n\"+\n     \"BokehJS does not appear to have successfully loaded. If loading BokehJS from CDN, this \\n\"+\n     \"may be due to a slow or bad network connection. Possible fixes:\\n\"+\n     \"</p>\\n\"+\n     \"<ul>\\n\"+\n     \"<li>re-rerun `output_notebook()` to attempt to load from CDN again, or</li>\\n\"+\n     \"<li>use INLINE resources instead, as so:</li>\\n\"+\n     \"</ul>\\n\"+\n     \"<code>\\n\"+\n     \"from bokeh.resources import INLINE\\n\"+\n     \"output_notebook(resources=INLINE)\\n\"+\n     \"</code>\\n\"+\n     \"</div>\"}};\n\n  function display_loaded() {\n    var el = document.getElementById(\"90fa5a81-071b-43f2-997b-bfc19b0fe046\");\n    if (el != null) {\n      el.textContent = \"BokehJS is loading...\";\n    }\n    if (root.Bokeh !== undefined) {\n      if (el != null) {\n        el.textContent = \"BokehJS \" + root.Bokeh.version + \" successfully loaded.\";\n      }\n    } else if (Date.now() < root._bokeh_timeout) {\n      setTimeout(display_loaded, 100)\n    }\n  }\n\n\n  function run_callbacks() {\n    try {\n      root._bokeh_onload_callbacks.forEach(function(callback) { callback() });\n    }\n    finally {\n      delete root._bokeh_onload_callbacks\n    }\n    console.info(\"Bokeh: all callbacks have finished\");\n  }\n\n  function load_libs(js_urls, callback) {\n    root._bokeh_onload_callbacks.push(callback);\n    if (root._bokeh_is_loading > 0) {\n      console.log(\"Bokeh: BokehJS is being loaded, scheduling callback at\", now());\n      return null;\n    }\n    if (js_urls == null || js_urls.length === 0) {\n      run_callbacks();\n      return null;\n    }\n    console.log(\"Bokeh: BokehJS not loaded, scheduling load and callback at\", now());\n    root._bokeh_is_loading = js_urls.length;\n    for (var i = 0; i < js_urls.length; i++) {\n      var url = js_urls[i];\n      var s = document.createElement('script');\n      s.src = url;\n      s.async = false;\n      s.onreadystatechange = s.onload = function() {\n        root._bokeh_is_loading--;\n        if (root._bokeh_is_loading === 0) {\n          console.log(\"Bokeh: all BokehJS libraries loaded\");\n          run_callbacks()\n        }\n      };\n      s.onerror = function() {\n        console.warn(\"failed to load library \" + url);\n      };\n      console.log(\"Bokeh: injecting script tag for BokehJS library: \", url);\n      document.getElementsByTagName(\"head\")[0].appendChild(s);\n    }\n  };var element = document.getElementById(\"90fa5a81-071b-43f2-997b-bfc19b0fe046\");\n  if (element == null) {\n    console.log(\"Bokeh: ERROR: autoload.js configured with elementid '90fa5a81-071b-43f2-997b-bfc19b0fe046' but no matching script tag was found. \")\n    return false;\n  }\n\n  var js_urls = [\"https://cdn.pydata.org/bokeh/release/bokeh-0.13.0.min.js\", \"https://cdn.pydata.org/bokeh/release/bokeh-widgets-0.13.0.min.js\", \"https://cdn.pydata.org/bokeh/release/bokeh-tables-0.13.0.min.js\", \"https://cdn.pydata.org/bokeh/release/bokeh-gl-0.13.0.min.js\"];\n\n  var inline_js = [\n    function(Bokeh) {\n      Bokeh.set_log_level(\"info\");\n    },\n    \n    function(Bokeh) {\n      \n    },\n    function(Bokeh) {\n      console.log(\"Bokeh: injecting CSS: https://cdn.pydata.org/bokeh/release/bokeh-0.13.0.min.css\");\n      Bokeh.embed.inject_css(\"https://cdn.pydata.org/bokeh/release/bokeh-0.13.0.min.css\");\n      console.log(\"Bokeh: injecting CSS: https://cdn.pydata.org/bokeh/release/bokeh-widgets-0.13.0.min.css\");\n      Bokeh.embed.inject_css(\"https://cdn.pydata.org/bokeh/release/bokeh-widgets-0.13.0.min.css\");\n      console.log(\"Bokeh: injecting CSS: https://cdn.pydata.org/bokeh/release/bokeh-tables-0.13.0.min.css\");\n      Bokeh.embed.inject_css(\"https://cdn.pydata.org/bokeh/release/bokeh-tables-0.13.0.min.css\");\n    }\n  ];\n\n  function run_inline_js() {\n    \n    if ((root.Bokeh !== undefined) || (force === true)) {\n      for (var i = 0; i < inline_js.length; i++) {\n        inline_js[i].call(root, root.Bokeh);\n      }if (force === true) {\n        display_loaded();\n      }} else if (Date.now() < root._bokeh_timeout) {\n      setTimeout(run_inline_js, 100);\n    } else if (!root._bokeh_failed_load) {\n      console.log(\"Bokeh: BokehJS failed to load within specified timeout.\");\n      root._bokeh_failed_load = true;\n    } else if (force !== true) {\n      var cell = $(document.getElementById(\"90fa5a81-071b-43f2-997b-bfc19b0fe046\")).parents('.cell').data().cell;\n      cell.output_area.append_execute_result(NB_LOAD_WARNING)\n    }\n\n  }\n\n  if (root._bokeh_is_loading === 0) {\n    console.log(\"Bokeh: BokehJS loaded, going straight to plotting\");\n    run_inline_js();\n  } else {\n    load_libs(js_urls, function() {\n      console.log(\"Bokeh: BokehJS plotting callback run at\", now());\n      run_inline_js();\n    });\n  }\n}(window));"
     },
     "metadata": {},
     "output_type": "display_data"
    }
   ],
   "source": [
    "from bokeh.io import show, output_notebook, push_notebook\n",
    "from bokeh.plotting import figure\n",
    "\n",
    "from bokeh.models import CategoricalColorMapper, HoverTool, ColumnDataSource, Panel\n",
    "\n",
    "\n",
    "from bokeh.palettes import Category20_16\n",
    "\n",
    "output_notebook()"
   ]
  },
  {
   "cell_type": "markdown",
   "metadata": {},
   "source": [
    "# Reading in Data"
   ]
  },
  {
   "cell_type": "code",
   "execution_count": 309,
   "metadata": {},
   "outputs": [],
   "source": [
    "# load in params and websites\n",
    "webs_paras = pd.read_csv('./data/normized.csv')"
   ]
  },
  {
   "cell_type": "code",
   "execution_count": 310,
   "metadata": {},
   "outputs": [],
   "source": [
    "webs = webs_paras.drop(['(Doc complete) Byets in','(Fully loaded) Bytes in','(Fully loaded) Requests','(Fully loaded) Requests','(Doc complete) Requests'], axis = 1)"
   ]
  },
  {
   "cell_type": "code",
   "execution_count": 311,
   "metadata": {},
   "outputs": [],
   "source": [
    "webs_requests = webs_paras[['Site name','(Fully loaded) Requests','(Fully loaded) Requests','(Doc complete) Requests']]"
   ]
  },
  {
   "cell_type": "code",
   "execution_count": 312,
   "metadata": {},
   "outputs": [],
   "source": [
    "#webs"
   ]
  },
  {
   "cell_type": "code",
   "execution_count": 313,
   "metadata": {},
   "outputs": [],
   "source": [
    " #webs['(Doc complete) Byets in'].describe()"
   ]
  },
  {
   "cell_type": "code",
   "execution_count": 314,
   "metadata": {},
   "outputs": [],
   "source": [
    "list_of_params = list(webs['Site name'].unique())"
   ]
  },
  {
   "cell_type": "code",
   "execution_count": 315,
   "metadata": {},
   "outputs": [],
   "source": [
    "list_of_params.sort()"
   ]
  },
  {
   "cell_type": "code",
   "execution_count": 316,
   "metadata": {},
   "outputs": [
    {
     "data": {
      "text/plain": [
       "49"
      ]
     },
     "execution_count": 316,
     "metadata": {},
     "output_type": "execute_result"
    }
   ],
   "source": [
    "len(list_of_params) "
   ]
  },
  {
   "cell_type": "code",
   "execution_count": 317,
   "metadata": {},
   "outputs": [],
   "source": [
    "#for i in range(49):\n",
    "    #print i%10"
   ]
  },
  {
   "cell_type": "code",
   "execution_count": 318,
   "metadata": {},
   "outputs": [
    {
     "data": {
      "text/plain": [
       "'#1f77b4'"
      ]
     },
     "execution_count": 318,
     "metadata": {},
     "output_type": "execute_result"
    }
   ],
   "source": [
    "Category20_16[0]"
   ]
  },
  {
   "cell_type": "markdown",
   "metadata": {},
   "source": [
    "# Function to Make Dataset for plot\n"
   ]
  },
  {
   "cell_type": "code",
   "execution_count": 319,
   "metadata": {},
   "outputs": [],
   "source": [
    "def make_dataset(params_list, range_start = 1, range_end = 50, bin_width = 5):\n",
    "    \n",
    "    #check to make sure the start is less than the end\n",
    "    assert range_start < range_end, \"Start must be less than end!\"\n",
    "    \n",
    "    by_params = pd.DataFrame(columns=[ 'left','right', 'p_interval', 'name', 'color']) \n",
    "   # 'proportion', 'p_proportion'\n",
    "    \n",
    "    range_extent = range_end - range_start\n",
    "    \n",
    "    # Iterate through all the parameters \n",
    "    for i, para_name in enumerate(params_list):\n",
    "    \n",
    "        \n",
    "        # Subset to the parameter\n",
    "        subset = webs[webs['Site name'] == para_name]\n",
    "        \n",
    "        \n",
    "        \n",
    "        \n",
    "        # Create a histogram with specified bins and range\n",
    "        arr_hist, edges = np.histogram(subset[webs.columns[i%6]], \n",
    "                                      bins = int(range_extent / bin_width),\n",
    "                                      range = [range_start, range_end])\n",
    "        \n",
    "        print arr_hist\n",
    "        \n",
    "        # Divide the counts by the total to get a proportion and create df\n",
    "        arr_df= pd.DataFrame({\n",
    "                              'left': edges[:-1], 'right': edges[1:]}) #'proportion': arr_hist / np.sum(arr_hist),\n",
    "      \n",
    "        # Format the proportion\n",
    "        #arr_df['p_proportion'] = ['%0.5f' % proportion for proportion in arr_df['proportion']]\n",
    "        \n",
    "        # Format the interval\n",
    "        arr_df['p_interval'] = ['%d to %d scale' % (left, right) for left, \n",
    "                               right in zip(arr_df['left'], arr_df['right'])]\n",
    "        \n",
    "        # Assign the parameter for labels\n",
    "        arr_df['name'] = para_name\n",
    "        \n",
    "        # Color each parametr differently\n",
    "        arr_df['color'] = Category20_16[i%16]\n",
    "        \n",
    "        # Add to the overall dataframe\n",
    "        by_params = by_params.append(arr_df)\n",
    "        \n",
    "    # Overall dataframe\n",
    "    by_params = by_params.sort_values(['name','left'])\n",
    "    \n",
    "    \n",
    "    \n",
    "    return by_params\n",
    "        \n",
    "        \n",
    "        \n",
    "        "
   ]
  },
  {
   "cell_type": "code",
   "execution_count": 320,
   "metadata": {
    "scrolled": true
   },
   "outputs": [
    {
     "name": "stdout",
     "output_type": "stream",
     "text": [
      "[0 0 0 0 0 0 0 0 0]\n",
      "[0 0 0 0 0 0 0 0 0]\n",
      "[0 0 0 0 0 0 0 0 0]\n",
      "[0 0 0 0 0 0 0 0 0]\n",
      "[0 0 0 0 0 0 0 0 0]\n",
      "[0 0 0 0 0 0 0 0 0]\n",
      "[0 0 0 0 0 0 0 0 0]\n",
      "[0 0 0 0 0 0 0 0 0]\n",
      "[0 0 0 0 0 0 0 0 0]\n",
      "[0 0 0 0 0 0 0 0 0]\n",
      "[0 0 0 0 0 0 0 0 0]\n",
      "[0 0 0 0 0 0 0 0 0]\n",
      "[0 0 0 0 0 0 0 0 0]\n",
      "[0 0 0 0 0 0 0 0 0]\n",
      "[0 0 0 0 0 0 0 0 0]\n",
      "[0 0 0 0 0 0 0 0 0]\n",
      "[0 0 0 0 0 0 0 0 0]\n",
      "[0 0 0 0 0 0 0 0 0]\n",
      "[0 0 0 0 0 0 0 0 0]\n",
      "[0 0 0 0 0 0 0 0 0]\n",
      "[0 0 0 0 0 0 0 0 0]\n",
      "[0 0 0 0 0 0 0 0 0]\n",
      "[0 0 0 0 0 0 0 0 0]\n",
      "[0 0 0 0 0 0 0 0 0]\n",
      "[0 0 0 0 0 0 0 0 0]\n",
      "[0 0 0 0 0 0 0 0 0]\n",
      "[0 0 0 0 0 0 0 0 0]\n",
      "[0 0 0 0 0 0 0 0 0]\n",
      "[0 0 0 0 0 0 0 0 0]\n",
      "[0 0 0 0 0 0 0 0 0]\n",
      "[0 0 0 0 0 0 0 0 0]\n",
      "[0 0 0 0 0 0 0 0 0]\n",
      "[0 0 0 0 0 0 0 0 0]\n",
      "[0 0 0 0 0 0 0 0 0]\n",
      "[0 0 0 0 0 0 0 0 0]\n",
      "[0 0 0 0 0 0 0 0 0]\n",
      "[0 0 0 0 0 0 0 0 0]\n",
      "[0 0 0 0 0 0 0 0 0]\n",
      "[0 0 0 0 0 0 0 0 0]\n",
      "[0 0 0 0 0 0 0 0 0]\n",
      "[0 0 0 0 0 0 0 0 0]\n",
      "[0 0 0 0 0 0 0 0 0]\n",
      "[0 0 0 0 0 0 0 0 0]\n",
      "[0 0 0 0 0 0 0 0 0]\n",
      "[0 0 0 0 0 0 0 0 0]\n",
      "[0 0 0 0 0 0 0 0 0]\n",
      "[0 0 0 0 0 0 0 0 0]\n",
      "[0 0 0 0 0 0 0 0 0]\n",
      "[0 0 0 0 0 0 0 0 0]\n"
     ]
    },
    {
     "data": {
      "text/html": [
       "\n",
       "\n",
       "\n",
       "\n",
       "\n",
       "\n",
       "  <div class=\"bk-root\" id=\"7ef6c67b-8b9e-4dae-88dd-1c5187567c4a\"></div>\n"
      ]
     },
     "metadata": {},
     "output_type": "display_data"
    },
    {
     "data": {
      "application/javascript": [
       "(function(root) {\n",
       "  function embed_document(root) {\n",
       "    \n",
       "  var docs_json = {\"425adacd-d215-4dcb-b2f3-508ca89bd158\":{\"roots\":{\"references\":[{\"attributes\":{\"axis_label\":\"x_label\",\"axis_label_text_font_size\":{\"value\":\"14pt\"},\"axis_label_text_font_style\":\"bold\",\"formatter\":{\"id\":\"1e53202f-200e-44a4-928e-ed944492aaa6\",\"type\":\"BasicTickFormatter\"},\"major_label_text_font_size\":{\"value\":\"12pt\"},\"plot\":{\"id\":\"8c1fd83d-c548-4167-98ad-a78c471a3add\",\"subtype\":\"Figure\",\"type\":\"Plot\"},\"ticker\":{\"id\":\"b7b444c9-9f23-46c3-97a2-2fc38536fbbf\",\"type\":\"BasicTicker\"}},\"id\":\"d41684b6-5057-458c-8647-cdb3d95d5ced\",\"type\":\"LinearAxis\"},{\"attributes\":{\"overlay\":{\"id\":\"a8c6de6e-3125-4fd6-8fd1-beb121b78f73\",\"type\":\"BoxAnnotation\"}},\"id\":\"c7f9dcfa-6202-4e37-9af2-94d6deabbb9f\",\"type\":\"BoxZoomTool\"},{\"attributes\":{\"active_drag\":\"auto\",\"active_inspect\":\"auto\",\"active_multi\":null,\"active_scroll\":\"auto\",\"active_tap\":\"auto\",\"tools\":[{\"id\":\"0429bd22-446f-4ddf-935d-424bc85caa30\",\"type\":\"PanTool\"},{\"id\":\"1cc85490-901c-4a94-903c-666df9181cfc\",\"type\":\"WheelZoomTool\"},{\"id\":\"c7f9dcfa-6202-4e37-9af2-94d6deabbb9f\",\"type\":\"BoxZoomTool\"},{\"id\":\"561a0c4e-398d-46c1-aa3f-85a6652eb3d2\",\"type\":\"SaveTool\"},{\"id\":\"31dca727-7648-4cb6-b676-bd786d93128b\",\"type\":\"ResetTool\"},{\"id\":\"675f6e3d-2aeb-433b-b255-d4a617e4ff60\",\"type\":\"HelpTool\"},{\"id\":\"8146667c-2e5c-4236-a25d-2e504d419cba\",\"type\":\"HoverTool\"}]},\"id\":\"6215e004-fba9-40c6-b30f-c5745de73c83\",\"type\":\"Toolbar\"},{\"attributes\":{},\"id\":\"561a0c4e-398d-46c1-aa3f-85a6652eb3d2\",\"type\":\"SaveTool\"},{\"attributes\":{},\"id\":\"31dca727-7648-4cb6-b676-bd786d93128b\",\"type\":\"ResetTool\"},{\"attributes\":{},\"id\":\"0429bd22-446f-4ddf-935d-424bc85caa30\",\"type\":\"PanTool\"},{\"attributes\":{\"bottom\":{\"value\":0},\"fill_alpha\":{\"value\":0.7},\"fill_color\":{\"field\":\"color\"},\"left\":{\"field\":\"left\"},\"line_color\":{\"value\":\"white\"},\"right\":{\"field\":\"right\"},\"top\":{\"value\":0.5}},\"id\":\"b0468264-872d-4a8a-aeae-92f236cd30fb\",\"type\":\"Quad\"},{\"attributes\":{},\"id\":\"1cc85490-901c-4a94-903c-666df9181cfc\",\"type\":\"WheelZoomTool\"},{\"attributes\":{},\"id\":\"14aaba83-01e5-4d15-be9c-4c6642e4aac9\",\"type\":\"BasicTicker\"},{\"attributes\":{\"callback\":null},\"id\":\"637bab7d-64ec-4fb3-8347-c55734e5dde4\",\"type\":\"DataRange1d\"},{\"attributes\":{\"below\":[{\"id\":\"d41684b6-5057-458c-8647-cdb3d95d5ced\",\"type\":\"LinearAxis\"}],\"left\":[{\"id\":\"85bfe117-f541-4be5-a6bf-60e1a42e9e36\",\"type\":\"LinearAxis\"}],\"plot_height\":700,\"plot_width\":700,\"renderers\":[{\"id\":\"d41684b6-5057-458c-8647-cdb3d95d5ced\",\"type\":\"LinearAxis\"},{\"id\":\"8eb2fc32-a1eb-4df1-ac8a-b6ab13a22cd1\",\"type\":\"Grid\"},{\"id\":\"85bfe117-f541-4be5-a6bf-60e1a42e9e36\",\"type\":\"LinearAxis\"},{\"id\":\"743aad70-3f4a-437b-b9a0-70390ae2c4f0\",\"type\":\"Grid\"},{\"id\":\"a8c6de6e-3125-4fd6-8fd1-beb121b78f73\",\"type\":\"BoxAnnotation\"},{\"id\":\"aadbed64-c23b-4793-ba6c-0732757865d2\",\"type\":\"Legend\"},{\"id\":\"10cc1f59-d48e-4d2c-8fb9-357e189c0c2a\",\"type\":\"GlyphRenderer\"}],\"title\":{\"id\":\"d5eb7dcf-8bbc-4445-b4a2-f1e1ca30ee18\",\"type\":\"Title\"},\"toolbar\":{\"id\":\"6215e004-fba9-40c6-b30f-c5745de73c83\",\"type\":\"Toolbar\"},\"x_range\":{\"id\":\"b013e256-4685-4006-8579-2f7db65f9fc0\",\"type\":\"DataRange1d\"},\"x_scale\":{\"id\":\"6c0c8871-a002-44d6-8fbb-6fa25b841e5c\",\"type\":\"LinearScale\"},\"y_range\":{\"id\":\"637bab7d-64ec-4fb3-8347-c55734e5dde4\",\"type\":\"DataRange1d\"},\"y_scale\":{\"id\":\"f2093b37-1dec-414c-b1ed-c8d3c92d89cf\",\"type\":\"LinearScale\"}},\"id\":\"8c1fd83d-c548-4167-98ad-a78c471a3add\",\"subtype\":\"Figure\",\"type\":\"Plot\"},{\"attributes\":{\"align\":\"center\",\"plot\":null,\"text\":\"Histogram of Parametes for the websites\",\"text_font\":\"serif\",\"text_font_size\":{\"value\":\"20pt\"}},\"id\":\"d5eb7dcf-8bbc-4445-b4a2-f1e1ca30ee18\",\"type\":\"Title\"},{\"attributes\":{},\"id\":\"f2093b37-1dec-414c-b1ed-c8d3c92d89cf\",\"type\":\"LinearScale\"},{\"attributes\":{\"plot\":{\"id\":\"8c1fd83d-c548-4167-98ad-a78c471a3add\",\"subtype\":\"Figure\",\"type\":\"Plot\"},\"ticker\":{\"id\":\"b7b444c9-9f23-46c3-97a2-2fc38536fbbf\",\"type\":\"BasicTicker\"}},\"id\":\"8eb2fc32-a1eb-4df1-ac8a-b6ab13a22cd1\",\"type\":\"Grid\"},{\"attributes\":{},\"id\":\"6c0c8871-a002-44d6-8fbb-6fa25b841e5c\",\"type\":\"LinearScale\"},{\"attributes\":{\"label\":{\"field\":\"name\"},\"renderers\":[{\"id\":\"10cc1f59-d48e-4d2c-8fb9-357e189c0c2a\",\"type\":\"GlyphRenderer\"}]},\"id\":\"8556e4cd-ca58-4d8a-b595-8816d4e20589\",\"type\":\"LegendItem\"},{\"attributes\":{},\"id\":\"675f6e3d-2aeb-433b-b255-d4a617e4ff60\",\"type\":\"HelpTool\"},{\"attributes\":{\"dimension\":1,\"plot\":{\"id\":\"8c1fd83d-c548-4167-98ad-a78c471a3add\",\"subtype\":\"Figure\",\"type\":\"Plot\"},\"ticker\":{\"id\":\"14aaba83-01e5-4d15-be9c-4c6642e4aac9\",\"type\":\"BasicTicker\"}},\"id\":\"743aad70-3f4a-437b-b9a0-70390ae2c4f0\",\"type\":\"Grid\"},{\"attributes\":{\"bottom_units\":\"screen\",\"fill_alpha\":{\"value\":0.5},\"fill_color\":{\"value\":\"lightgrey\"},\"left_units\":\"screen\",\"level\":\"overlay\",\"line_alpha\":{\"value\":1.0},\"line_color\":{\"value\":\"black\"},\"line_dash\":[4,4],\"line_width\":{\"value\":2},\"plot\":null,\"render_mode\":\"css\",\"right_units\":\"screen\",\"top_units\":\"screen\"},\"id\":\"a8c6de6e-3125-4fd6-8fd1-beb121b78f73\",\"type\":\"BoxAnnotation\"},{\"attributes\":{},\"id\":\"1e53202f-200e-44a4-928e-ed944492aaa6\",\"type\":\"BasicTickFormatter\"},{\"attributes\":{},\"id\":\"12eb9998-854f-4f94-8fa8-47d34effb4ad\",\"type\":\"UnionRenderers\"},{\"attributes\":{},\"id\":\"b7b444c9-9f23-46c3-97a2-2fc38536fbbf\",\"type\":\"BasicTicker\"},{\"attributes\":{\"bottom\":{\"value\":0},\"fill_alpha\":{\"value\":0.1},\"fill_color\":{\"value\":\"#1f77b4\"},\"left\":{\"field\":\"left\"},\"line_alpha\":{\"value\":0.1},\"line_color\":{\"value\":\"#1f77b4\"},\"right\":{\"field\":\"right\"},\"top\":{\"value\":0.5}},\"id\":\"1b95921e-d747-43ed-9db6-4096e48ff680\",\"type\":\"Quad\"},{\"attributes\":{\"items\":[{\"id\":\"8556e4cd-ca58-4d8a-b595-8816d4e20589\",\"type\":\"LegendItem\"}],\"plot\":{\"id\":\"8c1fd83d-c548-4167-98ad-a78c471a3add\",\"subtype\":\"Figure\",\"type\":\"Plot\"}},\"id\":\"aadbed64-c23b-4793-ba6c-0732757865d2\",\"type\":\"Legend\"},{\"attributes\":{\"source\":{\"id\":\"aec2c8de-ac3c-4d01-a4e4-a1ff8aacee43\",\"type\":\"ColumnDataSource\"}},\"id\":\"c8d57170-bedd-47ae-9960-949206425ccd\",\"type\":\"CDSView\"},{\"attributes\":{\"data_source\":{\"id\":\"aec2c8de-ac3c-4d01-a4e4-a1ff8aacee43\",\"type\":\"ColumnDataSource\"},\"glyph\":{\"id\":\"b0468264-872d-4a8a-aeae-92f236cd30fb\",\"type\":\"Quad\"},\"hover_glyph\":{\"id\":\"fea265ab-5d79-4c91-96aa-3b0bdd77b308\",\"type\":\"Quad\"},\"muted_glyph\":null,\"nonselection_glyph\":{\"id\":\"1b95921e-d747-43ed-9db6-4096e48ff680\",\"type\":\"Quad\"},\"selection_glyph\":null,\"view\":{\"id\":\"c8d57170-bedd-47ae-9960-949206425ccd\",\"type\":\"CDSView\"}},\"id\":\"10cc1f59-d48e-4d2c-8fb9-357e189c0c2a\",\"type\":\"GlyphRenderer\"},{\"attributes\":{\"axis_label\":\"y_labe\",\"axis_label_text_font_size\":{\"value\":\"14pt\"},\"axis_label_text_font_style\":\"bold\",\"formatter\":{\"id\":\"d7435bce-3dc4-4d2e-9378-59f8c4a12752\",\"type\":\"BasicTickFormatter\"},\"major_label_text_font_size\":{\"value\":\"12pt\"},\"plot\":{\"id\":\"8c1fd83d-c548-4167-98ad-a78c471a3add\",\"subtype\":\"Figure\",\"type\":\"Plot\"},\"ticker\":{\"id\":\"14aaba83-01e5-4d15-be9c-4c6642e4aac9\",\"type\":\"BasicTicker\"}},\"id\":\"85bfe117-f541-4be5-a6bf-60e1a42e9e36\",\"type\":\"LinearAxis\"},{\"attributes\":{\"callback\":null,\"mode\":\"vline\",\"renderers\":\"auto\",\"tooltips\":[[\"Parameter\",\"@name\"],[\"Difference\",\"@p_interval\"]]},\"id\":\"8146667c-2e5c-4236-a25d-2e504d419cba\",\"type\":\"HoverTool\"},{\"attributes\":{\"callback\":null},\"id\":\"b013e256-4685-4006-8579-2f7db65f9fc0\",\"type\":\"DataRange1d\"},{\"attributes\":{\"callback\":null,\"data\":{\"color\":[\"#1f77b4\",\"#1f77b4\",\"#1f77b4\",\"#1f77b4\",\"#1f77b4\",\"#1f77b4\",\"#1f77b4\",\"#1f77b4\",\"#1f77b4\",\"#aec7e8\",\"#aec7e8\",\"#aec7e8\",\"#aec7e8\",\"#aec7e8\",\"#aec7e8\",\"#aec7e8\",\"#aec7e8\",\"#aec7e8\",\"#ff7f0e\",\"#ff7f0e\",\"#ff7f0e\",\"#ff7f0e\",\"#ff7f0e\",\"#ff7f0e\",\"#ff7f0e\",\"#ff7f0e\",\"#ff7f0e\",\"#ffbb78\",\"#ffbb78\",\"#ffbb78\",\"#ffbb78\",\"#ffbb78\",\"#ffbb78\",\"#ffbb78\",\"#ffbb78\",\"#ffbb78\",\"#2ca02c\",\"#2ca02c\",\"#2ca02c\",\"#2ca02c\",\"#2ca02c\",\"#2ca02c\",\"#2ca02c\",\"#2ca02c\",\"#2ca02c\",\"#98df8a\",\"#98df8a\",\"#98df8a\",\"#98df8a\",\"#98df8a\",\"#98df8a\",\"#98df8a\",\"#98df8a\",\"#98df8a\",\"#d62728\",\"#d62728\",\"#d62728\",\"#d62728\",\"#d62728\",\"#d62728\",\"#d62728\",\"#d62728\",\"#d62728\",\"#ff9896\",\"#ff9896\",\"#ff9896\",\"#ff9896\",\"#ff9896\",\"#ff9896\",\"#ff9896\",\"#ff9896\",\"#ff9896\",\"#9467bd\",\"#9467bd\",\"#9467bd\",\"#9467bd\",\"#9467bd\",\"#9467bd\",\"#9467bd\",\"#9467bd\",\"#9467bd\",\"#c5b0d5\",\"#c5b0d5\",\"#c5b0d5\",\"#c5b0d5\",\"#c5b0d5\",\"#c5b0d5\",\"#c5b0d5\",\"#c5b0d5\",\"#c5b0d5\",\"#8c564b\",\"#8c564b\",\"#8c564b\",\"#8c564b\",\"#8c564b\",\"#8c564b\",\"#8c564b\",\"#8c564b\",\"#8c564b\",\"#c49c94\",\"#c49c94\",\"#c49c94\",\"#c49c94\",\"#c49c94\",\"#c49c94\",\"#c49c94\",\"#c49c94\",\"#c49c94\",\"#e377c2\",\"#e377c2\",\"#e377c2\",\"#e377c2\",\"#e377c2\",\"#e377c2\",\"#e377c2\",\"#e377c2\",\"#e377c2\",\"#f7b6d2\",\"#f7b6d2\",\"#f7b6d2\",\"#f7b6d2\",\"#f7b6d2\",\"#f7b6d2\",\"#f7b6d2\",\"#f7b6d2\",\"#f7b6d2\",\"#7f7f7f\",\"#7f7f7f\",\"#7f7f7f\",\"#7f7f7f\",\"#7f7f7f\",\"#7f7f7f\",\"#7f7f7f\",\"#7f7f7f\",\"#7f7f7f\",\"#c7c7c7\",\"#c7c7c7\",\"#c7c7c7\",\"#c7c7c7\",\"#c7c7c7\",\"#c7c7c7\",\"#c7c7c7\",\"#c7c7c7\",\"#c7c7c7\",\"#1f77b4\",\"#1f77b4\",\"#1f77b4\",\"#1f77b4\",\"#1f77b4\",\"#1f77b4\",\"#1f77b4\",\"#1f77b4\",\"#1f77b4\",\"#aec7e8\",\"#aec7e8\",\"#aec7e8\",\"#aec7e8\",\"#aec7e8\",\"#aec7e8\",\"#aec7e8\",\"#aec7e8\",\"#aec7e8\",\"#ff7f0e\",\"#ff7f0e\",\"#ff7f0e\",\"#ff7f0e\",\"#ff7f0e\",\"#ff7f0e\",\"#ff7f0e\",\"#ff7f0e\",\"#ff7f0e\",\"#ffbb78\",\"#ffbb78\",\"#ffbb78\",\"#ffbb78\",\"#ffbb78\",\"#ffbb78\",\"#ffbb78\",\"#ffbb78\",\"#ffbb78\",\"#2ca02c\",\"#2ca02c\",\"#2ca02c\",\"#2ca02c\",\"#2ca02c\",\"#2ca02c\",\"#2ca02c\",\"#2ca02c\",\"#2ca02c\",\"#98df8a\",\"#98df8a\",\"#98df8a\",\"#98df8a\",\"#98df8a\",\"#98df8a\",\"#98df8a\",\"#98df8a\",\"#98df8a\",\"#d62728\",\"#d62728\",\"#d62728\",\"#d62728\",\"#d62728\",\"#d62728\",\"#d62728\",\"#d62728\",\"#d62728\",\"#ff9896\",\"#ff9896\",\"#ff9896\",\"#ff9896\",\"#ff9896\",\"#ff9896\",\"#ff9896\",\"#ff9896\",\"#ff9896\",\"#9467bd\",\"#9467bd\",\"#9467bd\",\"#9467bd\",\"#9467bd\",\"#9467bd\",\"#9467bd\",\"#9467bd\",\"#9467bd\",\"#c5b0d5\",\"#c5b0d5\",\"#c5b0d5\",\"#c5b0d5\",\"#c5b0d5\",\"#c5b0d5\",\"#c5b0d5\",\"#c5b0d5\",\"#c5b0d5\",\"#8c564b\",\"#8c564b\",\"#8c564b\",\"#8c564b\",\"#8c564b\",\"#8c564b\",\"#8c564b\",\"#8c564b\",\"#8c564b\",\"#c49c94\",\"#c49c94\",\"#c49c94\",\"#c49c94\",\"#c49c94\",\"#c49c94\",\"#c49c94\",\"#c49c94\",\"#c49c94\",\"#e377c2\",\"#e377c2\",\"#e377c2\",\"#e377c2\",\"#e377c2\",\"#e377c2\",\"#e377c2\",\"#e377c2\",\"#e377c2\",\"#f7b6d2\",\"#f7b6d2\",\"#f7b6d2\",\"#f7b6d2\",\"#f7b6d2\",\"#f7b6d2\",\"#f7b6d2\",\"#f7b6d2\",\"#f7b6d2\",\"#7f7f7f\",\"#7f7f7f\",\"#7f7f7f\",\"#7f7f7f\",\"#7f7f7f\",\"#7f7f7f\",\"#7f7f7f\",\"#7f7f7f\",\"#7f7f7f\",\"#c7c7c7\",\"#c7c7c7\",\"#c7c7c7\",\"#c7c7c7\",\"#c7c7c7\",\"#c7c7c7\",\"#c7c7c7\",\"#c7c7c7\",\"#c7c7c7\",\"#1f77b4\",\"#1f77b4\",\"#1f77b4\",\"#1f77b4\",\"#1f77b4\",\"#1f77b4\",\"#1f77b4\",\"#1f77b4\",\"#1f77b4\",\"#aec7e8\",\"#aec7e8\",\"#aec7e8\",\"#aec7e8\",\"#aec7e8\",\"#aec7e8\",\"#aec7e8\",\"#aec7e8\",\"#aec7e8\",\"#ff7f0e\",\"#ff7f0e\",\"#ff7f0e\",\"#ff7f0e\",\"#ff7f0e\",\"#ff7f0e\",\"#ff7f0e\",\"#ff7f0e\",\"#ff7f0e\",\"#ffbb78\",\"#ffbb78\",\"#ffbb78\",\"#ffbb78\",\"#ffbb78\",\"#ffbb78\",\"#ffbb78\",\"#ffbb78\",\"#ffbb78\",\"#2ca02c\",\"#2ca02c\",\"#2ca02c\",\"#2ca02c\",\"#2ca02c\",\"#2ca02c\",\"#2ca02c\",\"#2ca02c\",\"#2ca02c\",\"#98df8a\",\"#98df8a\",\"#98df8a\",\"#98df8a\",\"#98df8a\",\"#98df8a\",\"#98df8a\",\"#98df8a\",\"#98df8a\",\"#d62728\",\"#d62728\",\"#d62728\",\"#d62728\",\"#d62728\",\"#d62728\",\"#d62728\",\"#d62728\",\"#d62728\",\"#ff9896\",\"#ff9896\",\"#ff9896\",\"#ff9896\",\"#ff9896\",\"#ff9896\",\"#ff9896\",\"#ff9896\",\"#ff9896\",\"#9467bd\",\"#9467bd\",\"#9467bd\",\"#9467bd\",\"#9467bd\",\"#9467bd\",\"#9467bd\",\"#9467bd\",\"#9467bd\",\"#c5b0d5\",\"#c5b0d5\",\"#c5b0d5\",\"#c5b0d5\",\"#c5b0d5\",\"#c5b0d5\",\"#c5b0d5\",\"#c5b0d5\",\"#c5b0d5\",\"#8c564b\",\"#8c564b\",\"#8c564b\",\"#8c564b\",\"#8c564b\",\"#8c564b\",\"#8c564b\",\"#8c564b\",\"#8c564b\",\"#c49c94\",\"#c49c94\",\"#c49c94\",\"#c49c94\",\"#c49c94\",\"#c49c94\",\"#c49c94\",\"#c49c94\",\"#c49c94\",\"#e377c2\",\"#e377c2\",\"#e377c2\",\"#e377c2\",\"#e377c2\",\"#e377c2\",\"#e377c2\",\"#e377c2\",\"#e377c2\",\"#f7b6d2\",\"#f7b6d2\",\"#f7b6d2\",\"#f7b6d2\",\"#f7b6d2\",\"#f7b6d2\",\"#f7b6d2\",\"#f7b6d2\",\"#f7b6d2\",\"#7f7f7f\",\"#7f7f7f\",\"#7f7f7f\",\"#7f7f7f\",\"#7f7f7f\",\"#7f7f7f\",\"#7f7f7f\",\"#7f7f7f\",\"#7f7f7f\",\"#c7c7c7\",\"#c7c7c7\",\"#c7c7c7\",\"#c7c7c7\",\"#c7c7c7\",\"#c7c7c7\",\"#c7c7c7\",\"#c7c7c7\",\"#c7c7c7\",\"#1f77b4\",\"#1f77b4\",\"#1f77b4\",\"#1f77b4\",\"#1f77b4\",\"#1f77b4\",\"#1f77b4\",\"#1f77b4\",\"#1f77b4\"],\"index\":[0,1,2,3,4,5,6,7,8,0,1,2,3,4,5,6,7,8,0,1,2,3,4,5,6,7,8,0,1,2,3,4,5,6,7,8,0,1,2,3,4,5,6,7,8,0,1,2,3,4,5,6,7,8,0,1,2,3,4,5,6,7,8,0,1,2,3,4,5,6,7,8,0,1,2,3,4,5,6,7,8,0,1,2,3,4,5,6,7,8,0,1,2,3,4,5,6,7,8,0,1,2,3,4,5,6,7,8,0,1,2,3,4,5,6,7,8,0,1,2,3,4,5,6,7,8,0,1,2,3,4,5,6,7,8,0,1,2,3,4,5,6,7,8,0,1,2,3,4,5,6,7,8,0,1,2,3,4,5,6,7,8,0,1,2,3,4,5,6,7,8,0,1,2,3,4,5,6,7,8,0,1,2,3,4,5,6,7,8,0,1,2,3,4,5,6,7,8,0,1,2,3,4,5,6,7,8,0,1,2,3,4,5,6,7,8,0,1,2,3,4,5,6,7,8,0,1,2,3,4,5,6,7,8,0,1,2,3,4,5,6,7,8,0,1,2,3,4,5,6,7,8,0,1,2,3,4,5,6,7,8,0,1,2,3,4,5,6,7,8,0,1,2,3,4,5,6,7,8,0,1,2,3,4,5,6,7,8,0,1,2,3,4,5,6,7,8,0,1,2,3,4,5,6,7,8,0,1,2,3,4,5,6,7,8,0,1,2,3,4,5,6,7,8,0,1,2,3,4,5,6,7,8,0,1,2,3,4,5,6,7,8,0,1,2,3,4,5,6,7,8,0,1,2,3,4,5,6,7,8,0,1,2,3,4,5,6,7,8,0,1,2,3,4,5,6,7,8,0,1,2,3,4,5,6,7,8,0,1,2,3,4,5,6,7,8,0,1,2,3,4,5,6,7,8,0,1,2,3,4,5,6,7,8,0,1,2,3,4,5,6,7,8,0,1,2,3,4,5,6,7,8,0,1,2,3,4,5,6,7,8],\"left\":{\"__ndarray__\":\"AAAAAAAA8D9yHMdxHMcZQHIcx3EcxydAVlVVVVVVMUByHMdxHMc2QI7jOI7jODxAVlVVVVXVQEDkOI7jOI5DQHIcx3EcR0ZAAAAAAAAA8D9yHMdxHMcZQHIcx3EcxydAVlVVVVVVMUByHMdxHMc2QI7jOI7jODxAVlVVVVXVQEDkOI7jOI5DQHIcx3EcR0ZAAAAAAAAA8D9yHMdxHMcZQHIcx3EcxydAVlVVVVVVMUByHMdxHMc2QI7jOI7jODxAVlVVVVXVQEDkOI7jOI5DQHIcx3EcR0ZAAAAAAAAA8D9yHMdxHMcZQHIcx3EcxydAVlVVVVVVMUByHMdxHMc2QI7jOI7jODxAVlVVVVXVQEDkOI7jOI5DQHIcx3EcR0ZAAAAAAAAA8D9yHMdxHMcZQHIcx3EcxydAVlVVVVVVMUByHMdxHMc2QI7jOI7jODxAVlVVVVXVQEDkOI7jOI5DQHIcx3EcR0ZAAAAAAAAA8D9yHMdxHMcZQHIcx3EcxydAVlVVVVVVMUByHMdxHMc2QI7jOI7jODxAVlVVVVXVQEDkOI7jOI5DQHIcx3EcR0ZAAAAAAAAA8D9yHMdxHMcZQHIcx3EcxydAVlVVVVVVMUByHMdxHMc2QI7jOI7jODxAVlVVVVXVQEDkOI7jOI5DQHIcx3EcR0ZAAAAAAAAA8D9yHMdxHMcZQHIcx3EcxydAVlVVVVVVMUByHMdxHMc2QI7jOI7jODxAVlVVVVXVQEDkOI7jOI5DQHIcx3EcR0ZAAAAAAAAA8D9yHMdxHMcZQHIcx3EcxydAVlVVVVVVMUByHMdxHMc2QI7jOI7jODxAVlVVVVXVQEDkOI7jOI5DQHIcx3EcR0ZAAAAAAAAA8D9yHMdxHMcZQHIcx3EcxydAVlVVVVVVMUByHMdxHMc2QI7jOI7jODxAVlVVVVXVQEDkOI7jOI5DQHIcx3EcR0ZAAAAAAAAA8D9yHMdxHMcZQHIcx3EcxydAVlVVVVVVMUByHMdxHMc2QI7jOI7jODxAVlVVVVXVQEDkOI7jOI5DQHIcx3EcR0ZAAAAAAAAA8D9yHMdxHMcZQHIcx3EcxydAVlVVVVVVMUByHMdxHMc2QI7jOI7jODxAVlVVVVXVQEDkOI7jOI5DQHIcx3EcR0ZAAAAAAAAA8D9yHMdxHMcZQHIcx3EcxydAVlVVVVVVMUByHMdxHMc2QI7jOI7jODxAVlVVVVXVQEDkOI7jOI5DQHIcx3EcR0ZAAAAAAAAA8D9yHMdxHMcZQHIcx3EcxydAVlVVVVVVMUByHMdxHMc2QI7jOI7jODxAVlVVVVXVQEDkOI7jOI5DQHIcx3EcR0ZAAAAAAAAA8D9yHMdxHMcZQHIcx3EcxydAVlVVVVVVMUByHMdxHMc2QI7jOI7jODxAVlVVVVXVQEDkOI7jOI5DQHIcx3EcR0ZAAAAAAAAA8D9yHMdxHMcZQHIcx3EcxydAVlVVVVVVMUByHMdxHMc2QI7jOI7jODxAVlVVVVXVQEDkOI7jOI5DQHIcx3EcR0ZAAAAAAAAA8D9yHMdxHMcZQHIcx3EcxydAVlVVVVVVMUByHMdxHMc2QI7jOI7jODxAVlVVVVXVQEDkOI7jOI5DQHIcx3EcR0ZAAAAAAAAA8D9yHMdxHMcZQHIcx3EcxydAVlVVVVVVMUByHMdxHMc2QI7jOI7jODxAVlVVVVXVQEDkOI7jOI5DQHIcx3EcR0ZAAAAAAAAA8D9yHMdxHMcZQHIcx3EcxydAVlVVVVVVMUByHMdxHMc2QI7jOI7jODxAVlVVVVXVQEDkOI7jOI5DQHIcx3EcR0ZAAAAAAAAA8D9yHMdxHMcZQHIcx3EcxydAVlVVVVVVMUByHMdxHMc2QI7jOI7jODxAVlVVVVXVQEDkOI7jOI5DQHIcx3EcR0ZAAAAAAAAA8D9yHMdxHMcZQHIcx3EcxydAVlVVVVVVMUByHMdxHMc2QI7jOI7jODxAVlVVVVXVQEDkOI7jOI5DQHIcx3EcR0ZAAAAAAAAA8D9yHMdxHMcZQHIcx3EcxydAVlVVVVVVMUByHMdxHMc2QI7jOI7jODxAVlVVVVXVQEDkOI7jOI5DQHIcx3EcR0ZAAAAAAAAA8D9yHMdxHMcZQHIcx3EcxydAVlVVVVVVMUByHMdxHMc2QI7jOI7jODxAVlVVVVXVQEDkOI7jOI5DQHIcx3EcR0ZAAAAAAAAA8D9yHMdxHMcZQHIcx3EcxydAVlVVVVVVMUByHMdxHMc2QI7jOI7jODxAVlVVVVXVQEDkOI7jOI5DQHIcx3EcR0ZAAAAAAAAA8D9yHMdxHMcZQHIcx3EcxydAVlVVVVVVMUByHMdxHMc2QI7jOI7jODxAVlVVVVXVQEDkOI7jOI5DQHIcx3EcR0ZAAAAAAAAA8D9yHMdxHMcZQHIcx3EcxydAVlVVVVVVMUByHMdxHMc2QI7jOI7jODxAVlVVVVXVQEDkOI7jOI5DQHIcx3EcR0ZAAAAAAAAA8D9yHMdxHMcZQHIcx3EcxydAVlVVVVVVMUByHMdxHMc2QI7jOI7jODxAVlVVVVXVQEDkOI7jOI5DQHIcx3EcR0ZAAAAAAAAA8D9yHMdxHMcZQHIcx3EcxydAVlVVVVVVMUByHMdxHMc2QI7jOI7jODxAVlVVVVXVQEDkOI7jOI5DQHIcx3EcR0ZAAAAAAAAA8D9yHMdxHMcZQHIcx3EcxydAVlVVVVVVMUByHMdxHMc2QI7jOI7jODxAVlVVVVXVQEDkOI7jOI5DQHIcx3EcR0ZAAAAAAAAA8D9yHMdxHMcZQHIcx3EcxydAVlVVVVVVMUByHMdxHMc2QI7jOI7jODxAVlVVVVXVQEDkOI7jOI5DQHIcx3EcR0ZAAAAAAAAA8D9yHMdxHMcZQHIcx3EcxydAVlVVVVVVMUByHMdxHMc2QI7jOI7jODxAVlVVVVXVQEDkOI7jOI5DQHIcx3EcR0ZAAAAAAAAA8D9yHMdxHMcZQHIcx3EcxydAVlVVVVVVMUByHMdxHMc2QI7jOI7jODxAVlVVVVXVQEDkOI7jOI5DQHIcx3EcR0ZAAAAAAAAA8D9yHMdxHMcZQHIcx3EcxydAVlVVVVVVMUByHMdxHMc2QI7jOI7jODxAVlVVVVXVQEDkOI7jOI5DQHIcx3EcR0ZAAAAAAAAA8D9yHMdxHMcZQHIcx3EcxydAVlVVVVVVMUByHMdxHMc2QI7jOI7jODxAVlVVVVXVQEDkOI7jOI5DQHIcx3EcR0ZAAAAAAAAA8D9yHMdxHMcZQHIcx3EcxydAVlVVVVVVMUByHMdxHMc2QI7jOI7jODxAVlVVVVXVQEDkOI7jOI5DQHIcx3EcR0ZAAAAAAAAA8D9yHMdxHMcZQHIcx3EcxydAVlVVVVVVMUByHMdxHMc2QI7jOI7jODxAVlVVVVXVQEDkOI7jOI5DQHIcx3EcR0ZAAAAAAAAA8D9yHMdxHMcZQHIcx3EcxydAVlVVVVVVMUByHMdxHMc2QI7jOI7jODxAVlVVVVXVQEDkOI7jOI5DQHIcx3EcR0ZAAAAAAAAA8D9yHMdxHMcZQHIcx3EcxydAVlVVVVVVMUByHMdxHMc2QI7jOI7jODxAVlVVVVXVQEDkOI7jOI5DQHIcx3EcR0ZAAAAAAAAA8D9yHMdxHMcZQHIcx3EcxydAVlVVVVVVMUByHMdxHMc2QI7jOI7jODxAVlVVVVXVQEDkOI7jOI5DQHIcx3EcR0ZAAAAAAAAA8D9yHMdxHMcZQHIcx3EcxydAVlVVVVVVMUByHMdxHMc2QI7jOI7jODxAVlVVVVXVQEDkOI7jOI5DQHIcx3EcR0ZAAAAAAAAA8D9yHMdxHMcZQHIcx3EcxydAVlVVVVVVMUByHMdxHMc2QI7jOI7jODxAVlVVVVXVQEDkOI7jOI5DQHIcx3EcR0ZAAAAAAAAA8D9yHMdxHMcZQHIcx3EcxydAVlVVVVVVMUByHMdxHMc2QI7jOI7jODxAVlVVVVXVQEDkOI7jOI5DQHIcx3EcR0ZAAAAAAAAA8D9yHMdxHMcZQHIcx3EcxydAVlVVVVVVMUByHMdxHMc2QI7jOI7jODxAVlVVVVXVQEDkOI7jOI5DQHIcx3EcR0ZAAAAAAAAA8D9yHMdxHMcZQHIcx3EcxydAVlVVVVVVMUByHMdxHMc2QI7jOI7jODxAVlVVVVXVQEDkOI7jOI5DQHIcx3EcR0ZAAAAAAAAA8D9yHMdxHMcZQHIcx3EcxydAVlVVVVVVMUByHMdxHMc2QI7jOI7jODxAVlVVVVXVQEDkOI7jOI5DQHIcx3EcR0ZAAAAAAAAA8D9yHMdxHMcZQHIcx3EcxydAVlVVVVVVMUByHMdxHMc2QI7jOI7jODxAVlVVVVXVQEDkOI7jOI5DQHIcx3EcR0ZAAAAAAAAA8D9yHMdxHMcZQHIcx3EcxydAVlVVVVVVMUByHMdxHMc2QI7jOI7jODxAVlVVVVXVQEDkOI7jOI5DQHIcx3EcR0ZAAAAAAAAA8D9yHMdxHMcZQHIcx3EcxydAVlVVVVVVMUByHMdxHMc2QI7jOI7jODxAVlVVVVXVQEDkOI7jOI5DQHIcx3EcR0ZAAAAAAAAA8D9yHMdxHMcZQHIcx3EcxydAVlVVVVVVMUByHMdxHMc2QI7jOI7jODxAVlVVVVXVQEDkOI7jOI5DQHIcx3EcR0ZA\",\"dtype\":\"float64\",\"shape\":[441]},\"name\":[\"http//addthis.com/\",\"http//addthis.com/\",\"http//addthis.com/\",\"http//addthis.com/\",\"http//addthis.com/\",\"http//addthis.com/\",\"http//addthis.com/\",\"http//addthis.com/\",\"http//addthis.com/\",\"http//adobe.com/\",\"http//adobe.com/\",\"http//adobe.com/\",\"http//adobe.com/\",\"http//adobe.com/\",\"http//adobe.com/\",\"http//adobe.com/\",\"http//adobe.com/\",\"http//adobe.com/\",\"http//amazon.com/\",\"http//amazon.com/\",\"http//amazon.com/\",\"http//amazon.com/\",\"http//amazon.com/\",\"http//amazon.com/\",\"http//amazon.com/\",\"http//amazon.com/\",\"http//amazon.com/\",\"http//apple.com/\",\"http//apple.com/\",\"http//apple.com/\",\"http//apple.com/\",\"http//apple.com/\",\"http//apple.com/\",\"http//apple.com/\",\"http//apple.com/\",\"http//apple.com/\",\"http//baidu.com/\",\"http//baidu.com/\",\"http//baidu.com/\",\"http//baidu.com/\",\"http//baidu.com/\",\"http//baidu.com/\",\"http//baidu.com/\",\"http//baidu.com/\",\"http//baidu.com/\",\"http//bbc.co.uk/\",\"http//bbc.co.uk/\",\"http//bbc.co.uk/\",\"http//bbc.co.uk/\",\"http//bbc.co.uk/\",\"http//bbc.co.uk/\",\"http//bbc.co.uk/\",\"http//bbc.co.uk/\",\"http//bbc.co.uk/\",\"http//bit.ly/\",\"http//bit.ly/\",\"http//bit.ly/\",\"http//bit.ly/\",\"http//bit.ly/\",\"http//bit.ly/\",\"http//bit.ly/\",\"http//bit.ly/\",\"http//bit.ly/\",\"http//blogger.com/\",\"http//blogger.com/\",\"http//blogger.com/\",\"http//blogger.com/\",\"http//blogger.com/\",\"http//blogger.com/\",\"http//blogger.com/\",\"http//blogger.com/\",\"http//blogger.com/\",\"http//blogspot.com/\",\"http//blogspot.com/\",\"http//blogspot.com/\",\"http//blogspot.com/\",\"http//blogspot.com/\",\"http//blogspot.com/\",\"http//blogspot.com/\",\"http//blogspot.com/\",\"http//blogspot.com/\",\"http//buydomains.com/\",\"http//buydomains.com/\",\"http//buydomains.com/\",\"http//buydomains.com/\",\"http//buydomains.com/\",\"http//buydomains.com/\",\"http//buydomains.com/\",\"http//buydomains.com/\",\"http//buydomains.com/\",\"http//cnn.com/\",\"http//cnn.com/\",\"http//cnn.com/\",\"http//cnn.com/\",\"http//cnn.com/\",\"http//cnn.com/\",\"http//cnn.com/\",\"http//cnn.com/\",\"http//cnn.com/\",\"http//europa.eu/\",\"http//europa.eu/\",\"http//europa.eu/\",\"http//europa.eu/\",\"http//europa.eu/\",\"http//europa.eu/\",\"http//europa.eu/\",\"http//europa.eu/\",\"http//europa.eu/\",\"http//facebook.com/\",\"http//facebook.com/\",\"http//facebook.com/\",\"http//facebook.com/\",\"http//facebook.com/\",\"http//facebook.com/\",\"http//facebook.com/\",\"http//facebook.com/\",\"http//facebook.com/\",\"http//flickr.com/\",\"http//flickr.com/\",\"http//flickr.com/\",\"http//flickr.com/\",\"http//flickr.com/\",\"http//flickr.com/\",\"http//flickr.com/\",\"http//flickr.com/\",\"http//flickr.com/\",\"http//github.com/\",\"http//github.com/\",\"http//github.com/\",\"http//github.com/\",\"http//github.com/\",\"http//github.com/\",\"http//github.com/\",\"http//github.com/\",\"http//github.com/\",\"http//godaddy.com/\",\"http//godaddy.com/\",\"http//godaddy.com/\",\"http//godaddy.com/\",\"http//godaddy.com/\",\"http//godaddy.com/\",\"http//godaddy.com/\",\"http//godaddy.com/\",\"http//godaddy.com/\",\"http//goo.gl/\",\"http//goo.gl/\",\"http//goo.gl/\",\"http//goo.gl/\",\"http//goo.gl/\",\"http//goo.gl/\",\"http//goo.gl/\",\"http//goo.gl/\",\"http//goo.gl/\",\"http//google.co.jp/\",\"http//google.co.jp/\",\"http//google.co.jp/\",\"http//google.co.jp/\",\"http//google.co.jp/\",\"http//google.co.jp/\",\"http//google.co.jp/\",\"http//google.co.jp/\",\"http//google.co.jp/\",\"http//google.com/\",\"http//google.com/\",\"http//google.com/\",\"http//google.com/\",\"http//google.com/\",\"http//google.com/\",\"http//google.com/\",\"http//google.com/\",\"http//google.com/\",\"http//google.de/\",\"http//google.de/\",\"http//google.de/\",\"http//google.de/\",\"http//google.de/\",\"http//google.de/\",\"http//google.de/\",\"http//google.de/\",\"http//google.de/\",\"http//instagram.com/\",\"http//instagram.com/\",\"http//instagram.com/\",\"http//instagram.com/\",\"http//instagram.com/\",\"http//instagram.com/\",\"http//instagram.com/\",\"http//instagram.com/\",\"http//instagram.com/\",\"http//jimdo.com/\",\"http//jimdo.com/\",\"http//jimdo.com/\",\"http//jimdo.com/\",\"http//jimdo.com/\",\"http//jimdo.com/\",\"http//jimdo.com/\",\"http//jimdo.com/\",\"http//jimdo.com/\",\"http//linkedin.com/\",\"http//linkedin.com/\",\"http//linkedin.com/\",\"http//linkedin.com/\",\"http//linkedin.com/\",\"http//linkedin.com/\",\"http//linkedin.com/\",\"http//linkedin.com/\",\"http//linkedin.com/\",\"http//microsoft.com/\",\"http//microsoft.com/\",\"http//microsoft.com/\",\"http//microsoft.com/\",\"http//microsoft.com/\",\"http//microsoft.com/\",\"http//microsoft.com/\",\"http//microsoft.com/\",\"http//microsoft.com/\",\"http//mozilla.org/\",\"http//mozilla.org/\",\"http//mozilla.org/\",\"http//mozilla.org/\",\"http//mozilla.org/\",\"http//mozilla.org/\",\"http//mozilla.org/\",\"http//mozilla.org/\",\"http//mozilla.org/\",\"http//myspace.com/\",\"http//myspace.com/\",\"http//myspace.com/\",\"http//myspace.com/\",\"http//myspace.com/\",\"http//myspace.com/\",\"http//myspace.com/\",\"http//myspace.com/\",\"http//myspace.com/\",\"http//nih.gov/\",\"http//nih.gov/\",\"http//nih.gov/\",\"http//nih.gov/\",\"http//nih.gov/\",\"http//nih.gov/\",\"http//nih.gov/\",\"http//nih.gov/\",\"http//nih.gov/\",\"http//nytimes.com/\",\"http//nytimes.com/\",\"http//nytimes.com/\",\"http//nytimes.com/\",\"http//nytimes.com/\",\"http//nytimes.com/\",\"http//nytimes.com/\",\"http//nytimes.com/\",\"http//nytimes.com/\",\"http//pinterest.com/\",\"http//pinterest.com/\",\"http//pinterest.com/\",\"http//pinterest.com/\",\"http//pinterest.com/\",\"http//pinterest.com/\",\"http//pinterest.com/\",\"http//pinterest.com/\",\"http//pinterest.com/\",\"http//qq.com/\",\"http//qq.com/\",\"http//qq.com/\",\"http//qq.com/\",\"http//qq.com/\",\"http//qq.com/\",\"http//qq.com/\",\"http//qq.com/\",\"http//qq.com/\",\"http//reddit.com/\",\"http//reddit.com/\",\"http//reddit.com/\",\"http//reddit.com/\",\"http//reddit.com/\",\"http//reddit.com/\",\"http//reddit.com/\",\"http//reddit.com/\",\"http//reddit.com/\",\"http//soundcloud.com/\",\"http//soundcloud.com/\",\"http//soundcloud.com/\",\"http//soundcloud.com/\",\"http//soundcloud.com/\",\"http//soundcloud.com/\",\"http//soundcloud.com/\",\"http//soundcloud.com/\",\"http//soundcloud.com/\",\"http//statcounter.com/\",\"http//statcounter.com/\",\"http//statcounter.com/\",\"http//statcounter.com/\",\"http//statcounter.com/\",\"http//statcounter.com/\",\"http//statcounter.com/\",\"http//statcounter.com/\",\"http//statcounter.com/\",\"http//t.co/\",\"http//t.co/\",\"http//t.co/\",\"http//t.co/\",\"http//t.co/\",\"http//t.co/\",\"http//t.co/\",\"http//t.co/\",\"http//t.co/\",\"http//theguardian.com/\",\"http//theguardian.com/\",\"http//theguardian.com/\",\"http//theguardian.com/\",\"http//theguardian.com/\",\"http//theguardian.com/\",\"http//theguardian.com/\",\"http//theguardian.com/\",\"http//theguardian.com/\",\"http//tumblr.com/\",\"http//tumblr.com/\",\"http//tumblr.com/\",\"http//tumblr.com/\",\"http//tumblr.com/\",\"http//tumblr.com/\",\"http//tumblr.com/\",\"http//tumblr.com/\",\"http//tumblr.com/\",\"http//twitter.com/\",\"http//twitter.com/\",\"http//twitter.com/\",\"http//twitter.com/\",\"http//twitter.com/\",\"http//twitter.com/\",\"http//twitter.com/\",\"http//twitter.com/\",\"http//twitter.com/\",\"http//vimeo.com/\",\"http//vimeo.com/\",\"http//vimeo.com/\",\"http//vimeo.com/\",\"http//vimeo.com/\",\"http//vimeo.com/\",\"http//vimeo.com/\",\"http//vimeo.com/\",\"http//vimeo.com/\",\"http//vk.com/\",\"http//vk.com/\",\"http//vk.com/\",\"http//vk.com/\",\"http//vk.com/\",\"http//vk.com/\",\"http//vk.com/\",\"http//vk.com/\",\"http//vk.com/\",\"http//w3.org/\",\"http//w3.org/\",\"http//w3.org/\",\"http//w3.org/\",\"http//w3.org/\",\"http//w3.org/\",\"http//w3.org/\",\"http//w3.org/\",\"http//w3.org/\",\"http//weebly.com/\",\"http//weebly.com/\",\"http//weebly.com/\",\"http//weebly.com/\",\"http//weebly.com/\",\"http//weebly.com/\",\"http//weebly.com/\",\"http//weebly.com/\",\"http//weebly.com/\",\"http//wikipedia.org/\",\"http//wikipedia.org/\",\"http//wikipedia.org/\",\"http//wikipedia.org/\",\"http//wikipedia.org/\",\"http//wikipedia.org/\",\"http//wikipedia.org/\",\"http//wikipedia.org/\",\"http//wikipedia.org/\",\"http//wordpress.com/\",\"http//wordpress.com/\",\"http//wordpress.com/\",\"http//wordpress.com/\",\"http//wordpress.com/\",\"http//wordpress.com/\",\"http//wordpress.com/\",\"http//wordpress.com/\",\"http//wordpress.com/\",\"http//wordpress.org/\",\"http//wordpress.org/\",\"http//wordpress.org/\",\"http//wordpress.org/\",\"http//wordpress.org/\",\"http//wordpress.org/\",\"http//wordpress.org/\",\"http//wordpress.org/\",\"http//wordpress.org/\",\"http//wp.com/\",\"http//wp.com/\",\"http//wp.com/\",\"http//wp.com/\",\"http//wp.com/\",\"http//wp.com/\",\"http//wp.com/\",\"http//wp.com/\",\"http//wp.com/\",\"http//yahoo.com/\",\"http//yahoo.com/\",\"http//yahoo.com/\",\"http//yahoo.com/\",\"http//yahoo.com/\",\"http//yahoo.com/\",\"http//yahoo.com/\",\"http//yahoo.com/\",\"http//yahoo.com/\",\"http//yandex.ru/\",\"http//yandex.ru/\",\"http//yandex.ru/\",\"http//yandex.ru/\",\"http//yandex.ru/\",\"http//yandex.ru/\",\"http//yandex.ru/\",\"http//yandex.ru/\",\"http//yandex.ru/\",\"http//youtu.be/\",\"http//youtu.be/\",\"http//youtu.be/\",\"http//youtu.be/\",\"http//youtu.be/\",\"http//youtu.be/\",\"http//youtu.be/\",\"http//youtu.be/\",\"http//youtu.be/\",\"http//youtube.com/\",\"http//youtube.com/\",\"http//youtube.com/\",\"http//youtube.com/\",\"http//youtube.com/\",\"http//youtube.com/\",\"http//youtube.com/\",\"http//youtube.com/\",\"http//youtube.com/\"],\"p_interval\":[\"1 to 6 scale\",\"6 to 11 scale\",\"11 to 17 scale\",\"17 to 22 scale\",\"22 to 28 scale\",\"28 to 33 scale\",\"33 to 39 scale\",\"39 to 44 scale\",\"44 to 50 scale\",\"1 to 6 scale\",\"6 to 11 scale\",\"11 to 17 scale\",\"17 to 22 scale\",\"22 to 28 scale\",\"28 to 33 scale\",\"33 to 39 scale\",\"39 to 44 scale\",\"44 to 50 scale\",\"1 to 6 scale\",\"6 to 11 scale\",\"11 to 17 scale\",\"17 to 22 scale\",\"22 to 28 scale\",\"28 to 33 scale\",\"33 to 39 scale\",\"39 to 44 scale\",\"44 to 50 scale\",\"1 to 6 scale\",\"6 to 11 scale\",\"11 to 17 scale\",\"17 to 22 scale\",\"22 to 28 scale\",\"28 to 33 scale\",\"33 to 39 scale\",\"39 to 44 scale\",\"44 to 50 scale\",\"1 to 6 scale\",\"6 to 11 scale\",\"11 to 17 scale\",\"17 to 22 scale\",\"22 to 28 scale\",\"28 to 33 scale\",\"33 to 39 scale\",\"39 to 44 scale\",\"44 to 50 scale\",\"1 to 6 scale\",\"6 to 11 scale\",\"11 to 17 scale\",\"17 to 22 scale\",\"22 to 28 scale\",\"28 to 33 scale\",\"33 to 39 scale\",\"39 to 44 scale\",\"44 to 50 scale\",\"1 to 6 scale\",\"6 to 11 scale\",\"11 to 17 scale\",\"17 to 22 scale\",\"22 to 28 scale\",\"28 to 33 scale\",\"33 to 39 scale\",\"39 to 44 scale\",\"44 to 50 scale\",\"1 to 6 scale\",\"6 to 11 scale\",\"11 to 17 scale\",\"17 to 22 scale\",\"22 to 28 scale\",\"28 to 33 scale\",\"33 to 39 scale\",\"39 to 44 scale\",\"44 to 50 scale\",\"1 to 6 scale\",\"6 to 11 scale\",\"11 to 17 scale\",\"17 to 22 scale\",\"22 to 28 scale\",\"28 to 33 scale\",\"33 to 39 scale\",\"39 to 44 scale\",\"44 to 50 scale\",\"1 to 6 scale\",\"6 to 11 scale\",\"11 to 17 scale\",\"17 to 22 scale\",\"22 to 28 scale\",\"28 to 33 scale\",\"33 to 39 scale\",\"39 to 44 scale\",\"44 to 50 scale\",\"1 to 6 scale\",\"6 to 11 scale\",\"11 to 17 scale\",\"17 to 22 scale\",\"22 to 28 scale\",\"28 to 33 scale\",\"33 to 39 scale\",\"39 to 44 scale\",\"44 to 50 scale\",\"1 to 6 scale\",\"6 to 11 scale\",\"11 to 17 scale\",\"17 to 22 scale\",\"22 to 28 scale\",\"28 to 33 scale\",\"33 to 39 scale\",\"39 to 44 scale\",\"44 to 50 scale\",\"1 to 6 scale\",\"6 to 11 scale\",\"11 to 17 scale\",\"17 to 22 scale\",\"22 to 28 scale\",\"28 to 33 scale\",\"33 to 39 scale\",\"39 to 44 scale\",\"44 to 50 scale\",\"1 to 6 scale\",\"6 to 11 scale\",\"11 to 17 scale\",\"17 to 22 scale\",\"22 to 28 scale\",\"28 to 33 scale\",\"33 to 39 scale\",\"39 to 44 scale\",\"44 to 50 scale\",\"1 to 6 scale\",\"6 to 11 scale\",\"11 to 17 scale\",\"17 to 22 scale\",\"22 to 28 scale\",\"28 to 33 scale\",\"33 to 39 scale\",\"39 to 44 scale\",\"44 to 50 scale\",\"1 to 6 scale\",\"6 to 11 scale\",\"11 to 17 scale\",\"17 to 22 scale\",\"22 to 28 scale\",\"28 to 33 scale\",\"33 to 39 scale\",\"39 to 44 scale\",\"44 to 50 scale\",\"1 to 6 scale\",\"6 to 11 scale\",\"11 to 17 scale\",\"17 to 22 scale\",\"22 to 28 scale\",\"28 to 33 scale\",\"33 to 39 scale\",\"39 to 44 scale\",\"44 to 50 scale\",\"1 to 6 scale\",\"6 to 11 scale\",\"11 to 17 scale\",\"17 to 22 scale\",\"22 to 28 scale\",\"28 to 33 scale\",\"33 to 39 scale\",\"39 to 44 scale\",\"44 to 50 scale\",\"1 to 6 scale\",\"6 to 11 scale\",\"11 to 17 scale\",\"17 to 22 scale\",\"22 to 28 scale\",\"28 to 33 scale\",\"33 to 39 scale\",\"39 to 44 scale\",\"44 to 50 scale\",\"1 to 6 scale\",\"6 to 11 scale\",\"11 to 17 scale\",\"17 to 22 scale\",\"22 to 28 scale\",\"28 to 33 scale\",\"33 to 39 scale\",\"39 to 44 scale\",\"44 to 50 scale\",\"1 to 6 scale\",\"6 to 11 scale\",\"11 to 17 scale\",\"17 to 22 scale\",\"22 to 28 scale\",\"28 to 33 scale\",\"33 to 39 scale\",\"39 to 44 scale\",\"44 to 50 scale\",\"1 to 6 scale\",\"6 to 11 scale\",\"11 to 17 scale\",\"17 to 22 scale\",\"22 to 28 scale\",\"28 to 33 scale\",\"33 to 39 scale\",\"39 to 44 scale\",\"44 to 50 scale\",\"1 to 6 scale\",\"6 to 11 scale\",\"11 to 17 scale\",\"17 to 22 scale\",\"22 to 28 scale\",\"28 to 33 scale\",\"33 to 39 scale\",\"39 to 44 scale\",\"44 to 50 scale\",\"1 to 6 scale\",\"6 to 11 scale\",\"11 to 17 scale\",\"17 to 22 scale\",\"22 to 28 scale\",\"28 to 33 scale\",\"33 to 39 scale\",\"39 to 44 scale\",\"44 to 50 scale\",\"1 to 6 scale\",\"6 to 11 scale\",\"11 to 17 scale\",\"17 to 22 scale\",\"22 to 28 scale\",\"28 to 33 scale\",\"33 to 39 scale\",\"39 to 44 scale\",\"44 to 50 scale\",\"1 to 6 scale\",\"6 to 11 scale\",\"11 to 17 scale\",\"17 to 22 scale\",\"22 to 28 scale\",\"28 to 33 scale\",\"33 to 39 scale\",\"39 to 44 scale\",\"44 to 50 scale\",\"1 to 6 scale\",\"6 to 11 scale\",\"11 to 17 scale\",\"17 to 22 scale\",\"22 to 28 scale\",\"28 to 33 scale\",\"33 to 39 scale\",\"39 to 44 scale\",\"44 to 50 scale\",\"1 to 6 scale\",\"6 to 11 scale\",\"11 to 17 scale\",\"17 to 22 scale\",\"22 to 28 scale\",\"28 to 33 scale\",\"33 to 39 scale\",\"39 to 44 scale\",\"44 to 50 scale\",\"1 to 6 scale\",\"6 to 11 scale\",\"11 to 17 scale\",\"17 to 22 scale\",\"22 to 28 scale\",\"28 to 33 scale\",\"33 to 39 scale\",\"39 to 44 scale\",\"44 to 50 scale\",\"1 to 6 scale\",\"6 to 11 scale\",\"11 to 17 scale\",\"17 to 22 scale\",\"22 to 28 scale\",\"28 to 33 scale\",\"33 to 39 scale\",\"39 to 44 scale\",\"44 to 50 scale\",\"1 to 6 scale\",\"6 to 11 scale\",\"11 to 17 scale\",\"17 to 22 scale\",\"22 to 28 scale\",\"28 to 33 scale\",\"33 to 39 scale\",\"39 to 44 scale\",\"44 to 50 scale\",\"1 to 6 scale\",\"6 to 11 scale\",\"11 to 17 scale\",\"17 to 22 scale\",\"22 to 28 scale\",\"28 to 33 scale\",\"33 to 39 scale\",\"39 to 44 scale\",\"44 to 50 scale\",\"1 to 6 scale\",\"6 to 11 scale\",\"11 to 17 scale\",\"17 to 22 scale\",\"22 to 28 scale\",\"28 to 33 scale\",\"33 to 39 scale\",\"39 to 44 scale\",\"44 to 50 scale\",\"1 to 6 scale\",\"6 to 11 scale\",\"11 to 17 scale\",\"17 to 22 scale\",\"22 to 28 scale\",\"28 to 33 scale\",\"33 to 39 scale\",\"39 to 44 scale\",\"44 to 50 scale\",\"1 to 6 scale\",\"6 to 11 scale\",\"11 to 17 scale\",\"17 to 22 scale\",\"22 to 28 scale\",\"28 to 33 scale\",\"33 to 39 scale\",\"39 to 44 scale\",\"44 to 50 scale\",\"1 to 6 scale\",\"6 to 11 scale\",\"11 to 17 scale\",\"17 to 22 scale\",\"22 to 28 scale\",\"28 to 33 scale\",\"33 to 39 scale\",\"39 to 44 scale\",\"44 to 50 scale\",\"1 to 6 scale\",\"6 to 11 scale\",\"11 to 17 scale\",\"17 to 22 scale\",\"22 to 28 scale\",\"28 to 33 scale\",\"33 to 39 scale\",\"39 to 44 scale\",\"44 to 50 scale\",\"1 to 6 scale\",\"6 to 11 scale\",\"11 to 17 scale\",\"17 to 22 scale\",\"22 to 28 scale\",\"28 to 33 scale\",\"33 to 39 scale\",\"39 to 44 scale\",\"44 to 50 scale\",\"1 to 6 scale\",\"6 to 11 scale\",\"11 to 17 scale\",\"17 to 22 scale\",\"22 to 28 scale\",\"28 to 33 scale\",\"33 to 39 scale\",\"39 to 44 scale\",\"44 to 50 scale\",\"1 to 6 scale\",\"6 to 11 scale\",\"11 to 17 scale\",\"17 to 22 scale\",\"22 to 28 scale\",\"28 to 33 scale\",\"33 to 39 scale\",\"39 to 44 scale\",\"44 to 50 scale\",\"1 to 6 scale\",\"6 to 11 scale\",\"11 to 17 scale\",\"17 to 22 scale\",\"22 to 28 scale\",\"28 to 33 scale\",\"33 to 39 scale\",\"39 to 44 scale\",\"44 to 50 scale\",\"1 to 6 scale\",\"6 to 11 scale\",\"11 to 17 scale\",\"17 to 22 scale\",\"22 to 28 scale\",\"28 to 33 scale\",\"33 to 39 scale\",\"39 to 44 scale\",\"44 to 50 scale\",\"1 to 6 scale\",\"6 to 11 scale\",\"11 to 17 scale\",\"17 to 22 scale\",\"22 to 28 scale\",\"28 to 33 scale\",\"33 to 39 scale\",\"39 to 44 scale\",\"44 to 50 scale\",\"1 to 6 scale\",\"6 to 11 scale\",\"11 to 17 scale\",\"17 to 22 scale\",\"22 to 28 scale\",\"28 to 33 scale\",\"33 to 39 scale\",\"39 to 44 scale\",\"44 to 50 scale\",\"1 to 6 scale\",\"6 to 11 scale\",\"11 to 17 scale\",\"17 to 22 scale\",\"22 to 28 scale\",\"28 to 33 scale\",\"33 to 39 scale\",\"39 to 44 scale\",\"44 to 50 scale\",\"1 to 6 scale\",\"6 to 11 scale\",\"11 to 17 scale\",\"17 to 22 scale\",\"22 to 28 scale\",\"28 to 33 scale\",\"33 to 39 scale\",\"39 to 44 scale\",\"44 to 50 scale\",\"1 to 6 scale\",\"6 to 11 scale\",\"11 to 17 scale\",\"17 to 22 scale\",\"22 to 28 scale\",\"28 to 33 scale\",\"33 to 39 scale\",\"39 to 44 scale\",\"44 to 50 scale\",\"1 to 6 scale\",\"6 to 11 scale\",\"11 to 17 scale\",\"17 to 22 scale\",\"22 to 28 scale\",\"28 to 33 scale\",\"33 to 39 scale\",\"39 to 44 scale\",\"44 to 50 scale\",\"1 to 6 scale\",\"6 to 11 scale\",\"11 to 17 scale\",\"17 to 22 scale\",\"22 to 28 scale\",\"28 to 33 scale\",\"33 to 39 scale\",\"39 to 44 scale\",\"44 to 50 scale\"],\"right\":{\"__ndarray__\":\"chzHcRzHGUByHMdxHMcnQFZVVVVVVTFAchzHcRzHNkCO4ziO4zg8QFZVVVVV1UBA5DiO4ziOQ0ByHMdxHEdGQAAAAAAAAElAchzHcRzHGUByHMdxHMcnQFZVVVVVVTFAchzHcRzHNkCO4ziO4zg8QFZVVVVV1UBA5DiO4ziOQ0ByHMdxHEdGQAAAAAAAAElAchzHcRzHGUByHMdxHMcnQFZVVVVVVTFAchzHcRzHNkCO4ziO4zg8QFZVVVVV1UBA5DiO4ziOQ0ByHMdxHEdGQAAAAAAAAElAchzHcRzHGUByHMdxHMcnQFZVVVVVVTFAchzHcRzHNkCO4ziO4zg8QFZVVVVV1UBA5DiO4ziOQ0ByHMdxHEdGQAAAAAAAAElAchzHcRzHGUByHMdxHMcnQFZVVVVVVTFAchzHcRzHNkCO4ziO4zg8QFZVVVVV1UBA5DiO4ziOQ0ByHMdxHEdGQAAAAAAAAElAchzHcRzHGUByHMdxHMcnQFZVVVVVVTFAchzHcRzHNkCO4ziO4zg8QFZVVVVV1UBA5DiO4ziOQ0ByHMdxHEdGQAAAAAAAAElAchzHcRzHGUByHMdxHMcnQFZVVVVVVTFAchzHcRzHNkCO4ziO4zg8QFZVVVVV1UBA5DiO4ziOQ0ByHMdxHEdGQAAAAAAAAElAchzHcRzHGUByHMdxHMcnQFZVVVVVVTFAchzHcRzHNkCO4ziO4zg8QFZVVVVV1UBA5DiO4ziOQ0ByHMdxHEdGQAAAAAAAAElAchzHcRzHGUByHMdxHMcnQFZVVVVVVTFAchzHcRzHNkCO4ziO4zg8QFZVVVVV1UBA5DiO4ziOQ0ByHMdxHEdGQAAAAAAAAElAchzHcRzHGUByHMdxHMcnQFZVVVVVVTFAchzHcRzHNkCO4ziO4zg8QFZVVVVV1UBA5DiO4ziOQ0ByHMdxHEdGQAAAAAAAAElAchzHcRzHGUByHMdxHMcnQFZVVVVVVTFAchzHcRzHNkCO4ziO4zg8QFZVVVVV1UBA5DiO4ziOQ0ByHMdxHEdGQAAAAAAAAElAchzHcRzHGUByHMdxHMcnQFZVVVVVVTFAchzHcRzHNkCO4ziO4zg8QFZVVVVV1UBA5DiO4ziOQ0ByHMdxHEdGQAAAAAAAAElAchzHcRzHGUByHMdxHMcnQFZVVVVVVTFAchzHcRzHNkCO4ziO4zg8QFZVVVVV1UBA5DiO4ziOQ0ByHMdxHEdGQAAAAAAAAElAchzHcRzHGUByHMdxHMcnQFZVVVVVVTFAchzHcRzHNkCO4ziO4zg8QFZVVVVV1UBA5DiO4ziOQ0ByHMdxHEdGQAAAAAAAAElAchzHcRzHGUByHMdxHMcnQFZVVVVVVTFAchzHcRzHNkCO4ziO4zg8QFZVVVVV1UBA5DiO4ziOQ0ByHMdxHEdGQAAAAAAAAElAchzHcRzHGUByHMdxHMcnQFZVVVVVVTFAchzHcRzHNkCO4ziO4zg8QFZVVVVV1UBA5DiO4ziOQ0ByHMdxHEdGQAAAAAAAAElAchzHcRzHGUByHMdxHMcnQFZVVVVVVTFAchzHcRzHNkCO4ziO4zg8QFZVVVVV1UBA5DiO4ziOQ0ByHMdxHEdGQAAAAAAAAElAchzHcRzHGUByHMdxHMcnQFZVVVVVVTFAchzHcRzHNkCO4ziO4zg8QFZVVVVV1UBA5DiO4ziOQ0ByHMdxHEdGQAAAAAAAAElAchzHcRzHGUByHMdxHMcnQFZVVVVVVTFAchzHcRzHNkCO4ziO4zg8QFZVVVVV1UBA5DiO4ziOQ0ByHMdxHEdGQAAAAAAAAElAchzHcRzHGUByHMdxHMcnQFZVVVVVVTFAchzHcRzHNkCO4ziO4zg8QFZVVVVV1UBA5DiO4ziOQ0ByHMdxHEdGQAAAAAAAAElAchzHcRzHGUByHMdxHMcnQFZVVVVVVTFAchzHcRzHNkCO4ziO4zg8QFZVVVVV1UBA5DiO4ziOQ0ByHMdxHEdGQAAAAAAAAElAchzHcRzHGUByHMdxHMcnQFZVVVVVVTFAchzHcRzHNkCO4ziO4zg8QFZVVVVV1UBA5DiO4ziOQ0ByHMdxHEdGQAAAAAAAAElAchzHcRzHGUByHMdxHMcnQFZVVVVVVTFAchzHcRzHNkCO4ziO4zg8QFZVVVVV1UBA5DiO4ziOQ0ByHMdxHEdGQAAAAAAAAElAchzHcRzHGUByHMdxHMcnQFZVVVVVVTFAchzHcRzHNkCO4ziO4zg8QFZVVVVV1UBA5DiO4ziOQ0ByHMdxHEdGQAAAAAAAAElAchzHcRzHGUByHMdxHMcnQFZVVVVVVTFAchzHcRzHNkCO4ziO4zg8QFZVVVVV1UBA5DiO4ziOQ0ByHMdxHEdGQAAAAAAAAElAchzHcRzHGUByHMdxHMcnQFZVVVVVVTFAchzHcRzHNkCO4ziO4zg8QFZVVVVV1UBA5DiO4ziOQ0ByHMdxHEdGQAAAAAAAAElAchzHcRzHGUByHMdxHMcnQFZVVVVVVTFAchzHcRzHNkCO4ziO4zg8QFZVVVVV1UBA5DiO4ziOQ0ByHMdxHEdGQAAAAAAAAElAchzHcRzHGUByHMdxHMcnQFZVVVVVVTFAchzHcRzHNkCO4ziO4zg8QFZVVVVV1UBA5DiO4ziOQ0ByHMdxHEdGQAAAAAAAAElAchzHcRzHGUByHMdxHMcnQFZVVVVVVTFAchzHcRzHNkCO4ziO4zg8QFZVVVVV1UBA5DiO4ziOQ0ByHMdxHEdGQAAAAAAAAElAchzHcRzHGUByHMdxHMcnQFZVVVVVVTFAchzHcRzHNkCO4ziO4zg8QFZVVVVV1UBA5DiO4ziOQ0ByHMdxHEdGQAAAAAAAAElAchzHcRzHGUByHMdxHMcnQFZVVVVVVTFAchzHcRzHNkCO4ziO4zg8QFZVVVVV1UBA5DiO4ziOQ0ByHMdxHEdGQAAAAAAAAElAchzHcRzHGUByHMdxHMcnQFZVVVVVVTFAchzHcRzHNkCO4ziO4zg8QFZVVVVV1UBA5DiO4ziOQ0ByHMdxHEdGQAAAAAAAAElAchzHcRzHGUByHMdxHMcnQFZVVVVVVTFAchzHcRzHNkCO4ziO4zg8QFZVVVVV1UBA5DiO4ziOQ0ByHMdxHEdGQAAAAAAAAElAchzHcRzHGUByHMdxHMcnQFZVVVVVVTFAchzHcRzHNkCO4ziO4zg8QFZVVVVV1UBA5DiO4ziOQ0ByHMdxHEdGQAAAAAAAAElAchzHcRzHGUByHMdxHMcnQFZVVVVVVTFAchzHcRzHNkCO4ziO4zg8QFZVVVVV1UBA5DiO4ziOQ0ByHMdxHEdGQAAAAAAAAElAchzHcRzHGUByHMdxHMcnQFZVVVVVVTFAchzHcRzHNkCO4ziO4zg8QFZVVVVV1UBA5DiO4ziOQ0ByHMdxHEdGQAAAAAAAAElAchzHcRzHGUByHMdxHMcnQFZVVVVVVTFAchzHcRzHNkCO4ziO4zg8QFZVVVVV1UBA5DiO4ziOQ0ByHMdxHEdGQAAAAAAAAElAchzHcRzHGUByHMdxHMcnQFZVVVVVVTFAchzHcRzHNkCO4ziO4zg8QFZVVVVV1UBA5DiO4ziOQ0ByHMdxHEdGQAAAAAAAAElAchzHcRzHGUByHMdxHMcnQFZVVVVVVTFAchzHcRzHNkCO4ziO4zg8QFZVVVVV1UBA5DiO4ziOQ0ByHMdxHEdGQAAAAAAAAElAchzHcRzHGUByHMdxHMcnQFZVVVVVVTFAchzHcRzHNkCO4ziO4zg8QFZVVVVV1UBA5DiO4ziOQ0ByHMdxHEdGQAAAAAAAAElAchzHcRzHGUByHMdxHMcnQFZVVVVVVTFAchzHcRzHNkCO4ziO4zg8QFZVVVVV1UBA5DiO4ziOQ0ByHMdxHEdGQAAAAAAAAElAchzHcRzHGUByHMdxHMcnQFZVVVVVVTFAchzHcRzHNkCO4ziO4zg8QFZVVVVV1UBA5DiO4ziOQ0ByHMdxHEdGQAAAAAAAAElAchzHcRzHGUByHMdxHMcnQFZVVVVVVTFAchzHcRzHNkCO4ziO4zg8QFZVVVVV1UBA5DiO4ziOQ0ByHMdxHEdGQAAAAAAAAElAchzHcRzHGUByHMdxHMcnQFZVVVVVVTFAchzHcRzHNkCO4ziO4zg8QFZVVVVV1UBA5DiO4ziOQ0ByHMdxHEdGQAAAAAAAAElAchzHcRzHGUByHMdxHMcnQFZVVVVVVTFAchzHcRzHNkCO4ziO4zg8QFZVVVVV1UBA5DiO4ziOQ0ByHMdxHEdGQAAAAAAAAElAchzHcRzHGUByHMdxHMcnQFZVVVVVVTFAchzHcRzHNkCO4ziO4zg8QFZVVVVV1UBA5DiO4ziOQ0ByHMdxHEdGQAAAAAAAAElAchzHcRzHGUByHMdxHMcnQFZVVVVVVTFAchzHcRzHNkCO4ziO4zg8QFZVVVVV1UBA5DiO4ziOQ0ByHMdxHEdGQAAAAAAAAElAchzHcRzHGUByHMdxHMcnQFZVVVVVVTFAchzHcRzHNkCO4ziO4zg8QFZVVVVV1UBA5DiO4ziOQ0ByHMdxHEdGQAAAAAAAAElAchzHcRzHGUByHMdxHMcnQFZVVVVVVTFAchzHcRzHNkCO4ziO4zg8QFZVVVVV1UBA5DiO4ziOQ0ByHMdxHEdGQAAAAAAAAElA\",\"dtype\":\"float64\",\"shape\":[441]}},\"selected\":{\"id\":\"4642a7a7-febf-4b32-ade3-2d67e3ac5129\",\"type\":\"Selection\"},\"selection_policy\":{\"id\":\"12eb9998-854f-4f94-8fa8-47d34effb4ad\",\"type\":\"UnionRenderers\"}},\"id\":\"aec2c8de-ac3c-4d01-a4e4-a1ff8aacee43\",\"type\":\"ColumnDataSource\"},{\"attributes\":{\"bottom\":{\"value\":0},\"fill_color\":{\"field\":\"color\"},\"left\":{\"field\":\"left\"},\"line_color\":{\"value\":\"#1f77b4\"},\"right\":{\"field\":\"right\"},\"top\":{\"value\":0.5}},\"id\":\"fea265ab-5d79-4c91-96aa-3b0bdd77b308\",\"type\":\"Quad\"},{\"attributes\":{},\"id\":\"4642a7a7-febf-4b32-ade3-2d67e3ac5129\",\"type\":\"Selection\"},{\"attributes\":{},\"id\":\"d7435bce-3dc4-4d2e-9378-59f8c4a12752\",\"type\":\"BasicTickFormatter\"}],\"root_ids\":[\"8c1fd83d-c548-4167-98ad-a78c471a3add\"]},\"title\":\"Bokeh Application\",\"version\":\"0.13.0\"}};\n",
       "  var render_items = [{\"docid\":\"425adacd-d215-4dcb-b2f3-508ca89bd158\",\"roots\":{\"8c1fd83d-c548-4167-98ad-a78c471a3add\":\"7ef6c67b-8b9e-4dae-88dd-1c5187567c4a\"}}];\n",
       "  root.Bokeh.embed.embed_items_notebook(docs_json, render_items);\n",
       "\n",
       "  }\n",
       "  if (root.Bokeh !== undefined) {\n",
       "    embed_document(root);\n",
       "  } else {\n",
       "    var attempts = 0;\n",
       "    var timer = setInterval(function(root) {\n",
       "      if (root.Bokeh !== undefined) {\n",
       "        embed_document(root);\n",
       "        clearInterval(timer);\n",
       "      }\n",
       "      attempts++;\n",
       "      if (attempts > 100) {\n",
       "        console.log(\"Bokeh: ERROR: Unable to run BokehJS code because BokehJS library is missing\")\n",
       "        clearInterval(timer);\n",
       "      }\n",
       "    }, 10, root)\n",
       "  }\n",
       "})(window);"
      ],
      "application/vnd.bokehjs_exec.v0+json": ""
     },
     "metadata": {
      "application/vnd.bokehjs_exec.v0+json": {
       "id": "8c1fd83d-c548-4167-98ad-a78c471a3add"
      }
     },
     "output_type": "display_data"
    }
   ],
   "source": [
    "#make_dataset(list_of_params).head()\n",
    "p=make_plot(ColumnDataSource(make_dataset(list_of_params)))\n",
    "show(p)"
   ]
  },
  {
   "cell_type": "markdown",
   "metadata": {},
   "source": [
    "# Function to Make Plot from Data Source"
   ]
  },
  {
   "cell_type": "code",
   "execution_count": 300,
   "metadata": {},
   "outputs": [],
   "source": [
    "def style(p):\n",
    "    # Title\n",
    "    p.title.align = 'center'\n",
    "    p.title.text_font_size ='20pt'\n",
    "    p.title.text_font = 'serif'\n",
    "    \n",
    "    # Axis titles\n",
    "    p.xaxis.axis_label_text_font_size = '14pt'\n",
    "    p.xaxis.axis_label_text_font_style = 'bold'\n",
    "    p.yaxis.axis_label_text_font_size = '14pt'\n",
    "    p.yaxis.axis_label_text_font_style = 'bold'\n",
    "    \n",
    "    # Tick labels\n",
    "    p.xaxis.major_label_text_font_size = '12pt'\n",
    "    p.yaxis.major_label_text_font_size = '12pt'\n",
    "    \n",
    "    return p"
   ]
  },
  {
   "cell_type": "code",
   "execution_count": 301,
   "metadata": {},
   "outputs": [],
   "source": [
    "def make_plot(src):\n",
    "    # Blank plot with correct labels\n",
    "    p = figure(plot_width = 700, plot_height = 700,\n",
    "              title = \"Histogram of Parametes for the websites\",\n",
    "              x_axis_label = 'x_label', y_axis_label = \"y_labe\")\n",
    "    \n",
    "    # Quad glyphs to create a histogram\n",
    "    p.quad(source=src, bottom =0,left = 'left', right = 'right', color ='color', top= 0.5,fill_alpha = 0.7, hover_fill_color = 'color', legend = 'name',\n",
    "           hover_fill_alpha = 1.0, line_color = 'white') #top='proportion',\n",
    "    \n",
    "    # Hover tool with vline mode\n",
    "    hover = HoverTool(tooltips=[('Parameter','@name'),\n",
    "                               ('Difference','@p_interval')],\n",
    "                     mode='vline')\n",
    "    \n",
    "    p.add_tools(hover)\n",
    "    # Stypling\n",
    "    p = style(p)\n",
    "    return p"
   ]
  },
  {
   "cell_type": "code",
   "execution_count": null,
   "metadata": {},
   "outputs": [],
   "source": []
  },
  {
   "cell_type": "code",
   "execution_count": null,
   "metadata": {},
   "outputs": [],
   "source": []
  },
  {
   "cell_type": "code",
   "execution_count": null,
   "metadata": {},
   "outputs": [],
   "source": []
  }
 ],
 "metadata": {
  "kernelspec": {
   "display_name": "Python 2",
   "language": "python",
   "name": "python2"
  },
  "language_info": {
   "codemirror_mode": {
    "name": "ipython",
    "version": 2
   },
   "file_extension": ".py",
   "mimetype": "text/x-python",
   "name": "python",
   "nbconvert_exporter": "python",
   "pygments_lexer": "ipython2",
   "version": "2.7.12"
  }
 },
 "nbformat": 4,
 "nbformat_minor": 2
}

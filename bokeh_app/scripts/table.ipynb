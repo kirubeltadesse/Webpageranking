{
 "cells": [
  {
   "cell_type": "code",
   "execution_count": 1,
   "metadata": {},
   "outputs": [],
   "source": [
    "import pandas as pd\n",
    "import numpy as np"
   ]
  },
  {
   "cell_type": "code",
   "execution_count": 53,
   "metadata": {},
   "outputs": [],
   "source": [
    "from bokeh.models import ColumnarDataSource, Panel\n",
    "from bokeh.models.widgets import TableColumn, DataTable"
   ]
  },
  {
   "cell_type": "code",
   "execution_count": 54,
   "metadata": {},
   "outputs": [],
   "source": [
    "def table_tab(webs):\n",
    "    \n",
    "    # Calculate summary stats for tabel\n",
    "    para_stats = webs.describe().transpose()\n",
    "    para_stats = para_stats.reset_index().rename(\n",
    "        columns={'index':'parameters','count':'websites', '50%':'median'})\n",
    "    \n",
    "    para_stats['mean'] = para_stats['mean'].round(2)\n",
    "    para_src = ColumnarDataSource(para_stats)\n",
    "    # Columns of table\n",
    "    table_columns = [TableColumn(field='parameters', title='Parameters'),\n",
    "                     TableColumn(field='websites', title='Number of websites'),\n",
    "                     TableColumn(field='min', title='Min Value'),\n",
    "                     TableColumn(field='mean', title='Mean Value'),\n",
    "                     TableColumn(field='median', title='Median Value'),\n",
    "                     TableColumn(field='max', title='Max Value')]\n",
    "    para_table =DataTable(source= para_src, columns=table_columns, width = 1000)\n",
    "    return para_stats"
   ]
  },
  {
   "cell_type": "code",
   "execution_count": 55,
   "metadata": {},
   "outputs": [],
   "source": [
    "webs =  pd.read_csv('../data/formattop100.csv')"
   ]
  },
  {
   "cell_type": "code",
   "execution_count": 56,
   "metadata": {},
   "outputs": [
    {
     "ename": "TypeError",
     "evalue": "__init__() takes exactly 1 argument (2 given)",
     "output_type": "error",
     "traceback": [
      "\u001b[0;31m---------------------------------------------------------------------------\u001b[0m",
      "\u001b[0;31mTypeError\u001b[0m                                 Traceback (most recent call last)",
      "\u001b[0;32m<ipython-input-56-f8242af27816>\u001b[0m in \u001b[0;36m<module>\u001b[0;34m()\u001b[0m\n\u001b[0;32m----> 1\u001b[0;31m \u001b[0;32mprint\u001b[0m \u001b[0mtable_tab\u001b[0m\u001b[0;34m(\u001b[0m\u001b[0mwebs\u001b[0m\u001b[0;34m)\u001b[0m\u001b[0;34m\u001b[0m\u001b[0m\n\u001b[0m",
      "\u001b[0;32m<ipython-input-54-7d26886768e8>\u001b[0m in \u001b[0;36mtable_tab\u001b[0;34m(webs)\u001b[0m\n\u001b[1;32m      7\u001b[0m \u001b[0;34m\u001b[0m\u001b[0m\n\u001b[1;32m      8\u001b[0m     \u001b[0mpara_stats\u001b[0m\u001b[0;34m[\u001b[0m\u001b[0;34m'mean'\u001b[0m\u001b[0;34m]\u001b[0m \u001b[0;34m=\u001b[0m \u001b[0mpara_stats\u001b[0m\u001b[0;34m[\u001b[0m\u001b[0;34m'mean'\u001b[0m\u001b[0;34m]\u001b[0m\u001b[0;34m.\u001b[0m\u001b[0mround\u001b[0m\u001b[0;34m(\u001b[0m\u001b[0;36m2\u001b[0m\u001b[0;34m)\u001b[0m\u001b[0;34m\u001b[0m\u001b[0m\n\u001b[0;32m----> 9\u001b[0;31m     \u001b[0mpara_src\u001b[0m \u001b[0;34m=\u001b[0m \u001b[0mColumnarDataSource\u001b[0m\u001b[0;34m(\u001b[0m\u001b[0mpara_stats\u001b[0m\u001b[0;34m)\u001b[0m\u001b[0;34m\u001b[0m\u001b[0m\n\u001b[0m\u001b[1;32m     10\u001b[0m     \u001b[0;31m# Columns of table\u001b[0m\u001b[0;34m\u001b[0m\u001b[0;34m\u001b[0m\u001b[0m\n\u001b[1;32m     11\u001b[0m     table_columns = [TableColumn(field='parameters', title='Parameters'),\n",
      "\u001b[0;31mTypeError\u001b[0m: __init__() takes exactly 1 argument (2 given)"
     ]
    }
   ],
   "source": [
    "print table_tab(webs)"
   ]
  },
  {
   "cell_type": "code",
   "execution_count": null,
   "metadata": {},
   "outputs": [],
   "source": []
  }
 ],
 "metadata": {
  "kernelspec": {
   "display_name": "Python 2",
   "language": "python",
   "name": "python2"
  },
  "language_info": {
   "codemirror_mode": {
    "name": "ipython",
    "version": 2
   },
   "file_extension": ".py",
   "mimetype": "text/x-python",
   "name": "python",
   "nbconvert_exporter": "python",
   "pygments_lexer": "ipython2",
   "version": "2.7.12"
  }
 },
 "nbformat": 4,
 "nbformat_minor": 2
}

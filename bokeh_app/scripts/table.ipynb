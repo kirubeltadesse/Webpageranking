{
 "cells": [
  {
   "cell_type": "code",
   "execution_count": 1,
   "metadata": {},
   "outputs": [],
   "source": [
    "import pandas as pd\n",
    "import numpy as np"
   ]
  },
  {
   "cell_type": "code",
   "execution_count": 60,
   "metadata": {},
   "outputs": [],
   "source": [
    "from bokeh.models import ColumnarDataSource, Panel\n",
    "from bokeh.models.widgets import TableColumn, DataTable\n",
    "from bokeh.io import show, output_notebook, push_notebook"
   ]
  },
  {
   "cell_type": "code",
   "execution_count": 61,
   "metadata": {},
   "outputs": [],
   "source": [
    "def table_tab(webs):\n",
    "    \n",
    "    # Calculate summary stats for tabel\n",
    "    para_stats = webs.describe().transpose()\n",
    "    para_stats = para_stats.reset_index().rename(\n",
    "        columns={'index':'parameters','count':'websites', '50%':'median'})\n",
    "\n",
    "    para_stats['mean'] = para_stats['mean'].round(2)\n",
    "    para_src = ColumnarDataSource(para_stats)\n",
    "    # Columns of table\n",
    "    table_columns = [TableColumn(field='parameters', title='Parameters'),\n",
    "                     TableColumn(field='websites', title='Number of websites'),\n",
    "                     TableColumn(field='min', title='Min Value'),\n",
    "                     TableColumn(field='mean', title='Mean Value'),\n",
    "                     TableColumn(field='median', title='Median Value'),\n",
    "                     TableColumn(field='max', title='Max Value')]\n",
    "    para_table =DataTable(source= para_src, columns=table_columns, width = 1000)\n",
    "    tab = Panel(child = carrier_table, title = 'Summary Table')\n",
    "    tabs = Tabs(tabs = [tab])\n",
    "\n",
    "    doc.add_root(tabs)\n",
    "    \n",
    "handler = F\n",
    "\n",
    "    "
   ]
  },
  {
   "cell_type": "code",
   "execution_count": 62,
   "metadata": {},
   "outputs": [],
   "source": [
    "webs =  pd.read_csv('../data/formattop100.csv')"
   ]
  },
  {
   "cell_type": "code",
   "execution_count": 65,
   "metadata": {},
   "outputs": [],
   "source": [
    "#table_tab(webs)"
   ]
  }
 ],
 "metadata": {
  "kernelspec": {
   "display_name": "Python 2",
   "language": "python",
   "name": "python2"
  },
  "language_info": {
   "codemirror_mode": {
    "name": "ipython",
    "version": 2
   },
   "file_extension": ".py",
   "mimetype": "text/x-python",
   "name": "python",
   "nbconvert_exporter": "python",
   "pygments_lexer": "ipython2",
   "version": "2.7.12"
  }
 },
 "nbformat": 4,
 "nbformat_minor": 2
}

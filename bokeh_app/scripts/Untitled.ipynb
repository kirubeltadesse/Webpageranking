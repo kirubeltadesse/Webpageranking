{
 "cells": [
  {
   "cell_type": "code",
   "execution_count": 1,
   "metadata": {},
   "outputs": [],
   "source": [
    "def make_kde_dataset(carrier_list, range_start, range_end, bandwidth):\n",
    "\n",
    "        xs = []\n",
    "        ys = []\n",
    "        colors = []\n",
    "        labels = []\n",
    "\n",
    "        for i, carrier in enumerate(carrier_list):\n",
    "            subset = flights[flights['name'] == carrier]\n",
    "            subset = subset[subset['arr_delay'].between(range_start, range_end)]\n",
    "\n",
    "            kde = gaussian_kde(subset['arr_delay'], bw_method=bandwidth)\n",
    "            # Evenly space x values\n",
    "            x = np.linspace(range_start, range_end, 100)\n",
    "            # Evaluate pdf at every value of x\n",
    "            y = kde.pdf(x)\n",
    "\n",
    "            # Append the values to plot\n",
    "            xs.append(list(x))\n",
    "            ys.append(list(y))\n",
    "\n",
    "            # Append the colors and label\n",
    "            colors.append(airline_colors[i])\n",
    "            labels.append(carrier)\n",
    "\n",
    "        kernel_source = ColumnDataSource(data={'x': xs, 'y': ys, 'color': colors, 'label': labels})\n",
    "\n",
    "        return kernel_source"
   ]
  },
  {
   "cell_type": "code",
   "execution_count": 2,
   "metadata": {},
   "outputs": [],
   "source": [
    "def make_kde_plot(kde_src):\n",
    "        p = figure(plot_width = 700, plot_height = 700,\n",
    "                   title = 'Density Plot of Arrival Delays by Airline',\n",
    "                   x_axis_label = 'Delay (min)', y_axis_label = 'Density')\n",
    "\n",
    "\n",
    "        p.multi_line('x', 'y', color = 'color', legend = 'label', \n",
    "                     line_width = 3,\n",
    "                     source = kde_src)\n",
    "\n",
    "        # Hover tool with next line policy\n",
    "        hover = HoverTool(tooltips=[('Carrier', '@label'), \n",
    "                                    ('Delay', '$x'),\n",
    "                                    ('Density', '$y')],\n",
    "                          line_policy = 'next')\n",
    "\n",
    "        # Add the hover tool and styling\n",
    "        p.add_tools(hover)\n",
    "\n",
    "        p = style(p)\n",
    "\n",
    "        return p"
   ]
  },
  {
   "cell_type": "code",
   "execution_count": 3,
   "metadata": {},
   "outputs": [],
   "source": [
    "def update(attr, old, new):\n",
    "        # List of carriers to plot\n",
    "        carriers_to_plot = [carrier_selection.labels[i] for i in carrier_selection.active]\n",
    "        \n",
    "        # If no bandwidth is selected, use the default value\n",
    "        if bandwidth_choose.active == []:\n",
    "            bandwidth = None\n",
    "        # If the bandwidth select is activated, use the specified bandwith\n",
    "        else:\n",
    "            bandwidth = bandwidth_select.value\n",
    "            \n",
    "        \n",
    "        new_kde_src = make_kde_dataset(carriers_to_plot,\n",
    "                                       range_start = range_select.value[0],\n",
    "                                       range_end = range_select.value[1],\n",
    "                                       bandwidth = bandwidth)\n",
    "        \n",
    "        kde_src.data.update(new_kde_src.data)"
   ]
  },
  {
   "cell_type": "code",
   "execution_count": 4,
   "metadata": {},
   "outputs": [],
   "source": [
    " def style(p):\n",
    "        # Title \n",
    "        p.title.align = 'center'\n",
    "        p.title.text_font_size = '20pt'\n",
    "        p.title.text_font = 'serif'\n",
    "\n",
    "        # Axis titles\n",
    "        p.xaxis.axis_label_text_font_size = '14pt'\n",
    "        p.xaxis.axis_label_text_font_style = 'bold'\n",
    "        p.yaxis.axis_label_text_font_size = '14pt'\n",
    "        p.yaxis.axis_label_text_font_style = 'bold'\n",
    "\n",
    "        # Tick labels\n",
    "        p.xaxis.major_label_text_font_size = '12pt'\n",
    "        p.yaxis.major_label_text_font_size = '12pt'\n",
    "\n",
    "        return p"
   ]
  },
  {
   "cell_type": "code",
   "execution_count": null,
   "metadata": {},
   "outputs": [],
   "source": []
  }
 ],
 "metadata": {
  "kernelspec": {
   "display_name": "Python 2",
   "language": "python",
   "name": "python2"
  },
  "language_info": {
   "codemirror_mode": {
    "name": "ipython",
    "version": 2
   },
   "file_extension": ".py",
   "mimetype": "text/x-python",
   "name": "python",
   "nbconvert_exporter": "python",
   "pygments_lexer": "ipython2",
   "version": "2.7.12"
  }
 },
 "nbformat": 4,
 "nbformat_minor": 2
}
